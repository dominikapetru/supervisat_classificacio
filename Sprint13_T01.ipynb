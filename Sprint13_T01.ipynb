{
 "cells": [
  {
   "cell_type": "markdown",
   "id": "b37c1835-3bb5-4ecc-9900-e41906eb6db9",
   "metadata": {},
   "source": [
    "# Sprint 13: Supervised learning - classification"
   ]
  },
  {
   "cell_type": "markdown",
   "id": "c3f87659-9a3b-45cf-bd52-ac557bc5c2b3",
   "metadata": {},
   "source": [
    "#### Imports"
   ]
  },
  {
   "cell_type": "code",
   "execution_count": 1,
   "id": "f69e95f8-e084-4fcf-bb68-a693a50121c9",
   "metadata": {},
   "outputs": [],
   "source": [
    "import numpy as np\n",
    "import pandas as pd\n",
    "import matplotlib.pyplot as plt\n",
    "import seaborn as sns\n",
    "from sklearn.model_selection import train_test_split\n",
    "import warnings\n",
    "warnings.filterwarnings('ignore')\n",
    "from sklearn.preprocessing import StandardScaler\n",
    "\n",
    "from sklearn.tree import DecisionTreeClassifier\n",
    "from sklearn.neighbors import KNeighborsClassifier\n",
    "from sklearn.model_selection import GridSearchCV\n",
    "from sklearn import svm\n",
    "from sklearn.linear_model import LogisticRegression\n",
    "import xgboost as xgb\n",
    "\n",
    "from sklearn import metrics\n",
    "from sklearn.metrics import f1_score\n",
    "from sklearn.metrics import average_precision_score\n",
    "\n",
    "from sklearn.model_selection import cross_val_score\n",
    "from sklearn.model_selection import StratifiedKFold"
   ]
  },
  {
   "cell_type": "code",
   "execution_count": 50,
   "id": "c7569e84-62fa-4bae-a6fb-5158b3957215",
   "metadata": {},
   "outputs": [
    {
     "data": {
      "text/html": [
       "<div>\n",
       "<style scoped>\n",
       "    .dataframe tbody tr th:only-of-type {\n",
       "        vertical-align: middle;\n",
       "    }\n",
       "\n",
       "    .dataframe tbody tr th {\n",
       "        vertical-align: top;\n",
       "    }\n",
       "\n",
       "    .dataframe thead th {\n",
       "        text-align: right;\n",
       "    }\n",
       "</style>\n",
       "<table border=\"1\" class=\"dataframe\">\n",
       "  <thead>\n",
       "    <tr style=\"text-align: right;\">\n",
       "      <th></th>\n",
       "      <th>Unnamed: 0</th>\n",
       "      <th>Year</th>\n",
       "      <th>Month</th>\n",
       "      <th>DayofMonth</th>\n",
       "      <th>DayOfWeek</th>\n",
       "      <th>DepTime</th>\n",
       "      <th>CRSDepTime</th>\n",
       "      <th>ArrTime</th>\n",
       "      <th>CRSArrTime</th>\n",
       "      <th>UniqueCarrier</th>\n",
       "      <th>...</th>\n",
       "      <th>TaxiIn</th>\n",
       "      <th>TaxiOut</th>\n",
       "      <th>Cancelled</th>\n",
       "      <th>CancellationCode</th>\n",
       "      <th>Diverted</th>\n",
       "      <th>CarrierDelay</th>\n",
       "      <th>WeatherDelay</th>\n",
       "      <th>NASDelay</th>\n",
       "      <th>SecurityDelay</th>\n",
       "      <th>LateAircraftDelay</th>\n",
       "    </tr>\n",
       "  </thead>\n",
       "  <tbody>\n",
       "    <tr>\n",
       "      <th>0</th>\n",
       "      <td>0</td>\n",
       "      <td>2008</td>\n",
       "      <td>1</td>\n",
       "      <td>3</td>\n",
       "      <td>4</td>\n",
       "      <td>2003.0</td>\n",
       "      <td>1955</td>\n",
       "      <td>2211.0</td>\n",
       "      <td>2225</td>\n",
       "      <td>WN</td>\n",
       "      <td>...</td>\n",
       "      <td>4.0</td>\n",
       "      <td>8.0</td>\n",
       "      <td>0</td>\n",
       "      <td>N</td>\n",
       "      <td>0</td>\n",
       "      <td>NaN</td>\n",
       "      <td>NaN</td>\n",
       "      <td>NaN</td>\n",
       "      <td>NaN</td>\n",
       "      <td>NaN</td>\n",
       "    </tr>\n",
       "    <tr>\n",
       "      <th>1</th>\n",
       "      <td>1</td>\n",
       "      <td>2008</td>\n",
       "      <td>1</td>\n",
       "      <td>3</td>\n",
       "      <td>4</td>\n",
       "      <td>754.0</td>\n",
       "      <td>735</td>\n",
       "      <td>1002.0</td>\n",
       "      <td>1000</td>\n",
       "      <td>WN</td>\n",
       "      <td>...</td>\n",
       "      <td>5.0</td>\n",
       "      <td>10.0</td>\n",
       "      <td>0</td>\n",
       "      <td>N</td>\n",
       "      <td>0</td>\n",
       "      <td>NaN</td>\n",
       "      <td>NaN</td>\n",
       "      <td>NaN</td>\n",
       "      <td>NaN</td>\n",
       "      <td>NaN</td>\n",
       "    </tr>\n",
       "    <tr>\n",
       "      <th>2</th>\n",
       "      <td>2</td>\n",
       "      <td>2008</td>\n",
       "      <td>1</td>\n",
       "      <td>3</td>\n",
       "      <td>4</td>\n",
       "      <td>628.0</td>\n",
       "      <td>620</td>\n",
       "      <td>804.0</td>\n",
       "      <td>750</td>\n",
       "      <td>WN</td>\n",
       "      <td>...</td>\n",
       "      <td>3.0</td>\n",
       "      <td>17.0</td>\n",
       "      <td>0</td>\n",
       "      <td>N</td>\n",
       "      <td>0</td>\n",
       "      <td>NaN</td>\n",
       "      <td>NaN</td>\n",
       "      <td>NaN</td>\n",
       "      <td>NaN</td>\n",
       "      <td>NaN</td>\n",
       "    </tr>\n",
       "  </tbody>\n",
       "</table>\n",
       "<p>3 rows × 30 columns</p>\n",
       "</div>"
      ],
      "text/plain": [
       "   Unnamed: 0  Year  Month  DayofMonth  DayOfWeek  DepTime  CRSDepTime  \\\n",
       "0           0  2008      1           3          4   2003.0        1955   \n",
       "1           1  2008      1           3          4    754.0         735   \n",
       "2           2  2008      1           3          4    628.0         620   \n",
       "\n",
       "   ArrTime  CRSArrTime UniqueCarrier  ...  TaxiIn TaxiOut  Cancelled  \\\n",
       "0   2211.0        2225            WN  ...     4.0     8.0          0   \n",
       "1   1002.0        1000            WN  ...     5.0    10.0          0   \n",
       "2    804.0         750            WN  ...     3.0    17.0          0   \n",
       "\n",
       "   CancellationCode  Diverted  CarrierDelay  WeatherDelay NASDelay  \\\n",
       "0                 N         0           NaN           NaN      NaN   \n",
       "1                 N         0           NaN           NaN      NaN   \n",
       "2                 N         0           NaN           NaN      NaN   \n",
       "\n",
       "  SecurityDelay  LateAircraftDelay  \n",
       "0           NaN                NaN  \n",
       "1           NaN                NaN  \n",
       "2           NaN                NaN  \n",
       "\n",
       "[3 rows x 30 columns]"
      ]
     },
     "execution_count": 50,
     "metadata": {},
     "output_type": "execute_result"
    }
   ],
   "source": [
    "df = pd.read_csv(\"DelayedFlights.csv\")\n",
    "df.head(3)"
   ]
  },
  {
   "cell_type": "code",
   "execution_count": 4,
   "id": "ed33eca5-87fc-48ae-ba92-c38cfcc07f50",
   "metadata": {},
   "outputs": [
    {
     "data": {
      "text/plain": [
       "Index(['Unnamed: 0', 'Year', 'Month', 'DayofMonth', 'DayOfWeek', 'DepTime',\n",
       "       'CRSDepTime', 'ArrTime', 'CRSArrTime', 'UniqueCarrier', 'FlightNum',\n",
       "       'TailNum', 'ActualElapsedTime', 'CRSElapsedTime', 'AirTime', 'ArrDelay',\n",
       "       'DepDelay', 'Origin', 'Dest', 'Distance', 'TaxiIn', 'TaxiOut',\n",
       "       'Cancelled', 'CancellationCode', 'Diverted', 'CarrierDelay',\n",
       "       'WeatherDelay', 'NASDelay', 'SecurityDelay', 'LateAircraftDelay'],\n",
       "      dtype='object')"
      ]
     },
     "execution_count": 4,
     "metadata": {},
     "output_type": "execute_result"
    }
   ],
   "source": [
    "df.columns"
   ]
  },
  {
   "cell_type": "markdown",
   "id": "091dc6ce-b4fe-46dd-a9b5-4c002dd2f8e1",
   "metadata": {},
   "source": [
    "## Level 1"
   ]
  },
  {
   "cell_type": "markdown",
   "id": "6e67e425-93e1-4e0b-92e5-4a52ebcf81da",
   "metadata": {},
   "source": [
    "### Exercise 1"
   ]
  },
  {
   "cell_type": "markdown",
   "id": "415301f3-16a4-4793-9c05-0e55ad928ba3",
   "metadata": {},
   "source": [
    "##### Create 3 different models of classification for prediction of ArrDelay"
   ]
  },
  {
   "cell_type": "markdown",
   "id": "fda501fe-da39-4c6f-bfa1-e8e7ee0edcdb",
   "metadata": {},
   "source": [
    "I will create model to predict if there will be an arrival delay for one airline and one destination.\n",
    "- First select destination to Las Vegas - code LAS\n",
    "- Second select the most frequent airline Southwest Airlines - code WN\n",
    "- Consider if the flight arrived late or not ArrDelay > 0"
   ]
  },
  {
   "cell_type": "code",
   "execution_count": 75,
   "id": "e27abaca-11c1-48a0-b5ef-8d58c5041f01",
   "metadata": {},
   "outputs": [
    {
     "data": {
      "text/html": [
       "<div>\n",
       "<style scoped>\n",
       "    .dataframe tbody tr th:only-of-type {\n",
       "        vertical-align: middle;\n",
       "    }\n",
       "\n",
       "    .dataframe tbody tr th {\n",
       "        vertical-align: top;\n",
       "    }\n",
       "\n",
       "    .dataframe thead th {\n",
       "        text-align: right;\n",
       "    }\n",
       "</style>\n",
       "<table border=\"1\" class=\"dataframe\">\n",
       "  <thead>\n",
       "    <tr style=\"text-align: right;\">\n",
       "      <th></th>\n",
       "      <th>Year</th>\n",
       "      <th>Month</th>\n",
       "      <th>DayofMonth</th>\n",
       "      <th>DayOfWeek</th>\n",
       "      <th>CRSArrTime</th>\n",
       "      <th>CRSElapsedTime</th>\n",
       "      <th>ArrDelay</th>\n",
       "      <th>DepDelay</th>\n",
       "      <th>TaxiIn</th>\n",
       "      <th>TaxiOut</th>\n",
       "      <th>Cancelled</th>\n",
       "    </tr>\n",
       "  </thead>\n",
       "  <tbody>\n",
       "    <tr>\n",
       "      <th>5</th>\n",
       "      <td>2008</td>\n",
       "      <td>1</td>\n",
       "      <td>3</td>\n",
       "      <td>4</td>\n",
       "      <td>1940</td>\n",
       "      <td>250.0</td>\n",
       "      <td>57.0</td>\n",
       "      <td>67.0</td>\n",
       "      <td>3.0</td>\n",
       "      <td>7.0</td>\n",
       "      <td>0</td>\n",
       "    </tr>\n",
       "    <tr>\n",
       "      <th>243</th>\n",
       "      <td>2008</td>\n",
       "      <td>1</td>\n",
       "      <td>3</td>\n",
       "      <td>4</td>\n",
       "      <td>1530</td>\n",
       "      <td>65.0</td>\n",
       "      <td>24.0</td>\n",
       "      <td>36.0</td>\n",
       "      <td>4.0</td>\n",
       "      <td>8.0</td>\n",
       "      <td>0</td>\n",
       "    </tr>\n",
       "    <tr>\n",
       "      <th>244</th>\n",
       "      <td>2008</td>\n",
       "      <td>1</td>\n",
       "      <td>3</td>\n",
       "      <td>4</td>\n",
       "      <td>1240</td>\n",
       "      <td>65.0</td>\n",
       "      <td>33.0</td>\n",
       "      <td>30.0</td>\n",
       "      <td>3.0</td>\n",
       "      <td>18.0</td>\n",
       "      <td>0</td>\n",
       "    </tr>\n",
       "  </tbody>\n",
       "</table>\n",
       "</div>"
      ],
      "text/plain": [
       "     Year  Month  DayofMonth  DayOfWeek  CRSArrTime  CRSElapsedTime  ArrDelay  \\\n",
       "5    2008      1           3          4        1940           250.0      57.0   \n",
       "243  2008      1           3          4        1530            65.0      24.0   \n",
       "244  2008      1           3          4        1240            65.0      33.0   \n",
       "\n",
       "     DepDelay  TaxiIn  TaxiOut  Cancelled  \n",
       "5        67.0     3.0      7.0          0  \n",
       "243      36.0     4.0      8.0          0  \n",
       "244      30.0     3.0     18.0          0  "
      ]
     },
     "execution_count": 75,
     "metadata": {},
     "output_type": "execute_result"
    }
   ],
   "source": [
    "#retrieve the data\n",
    "a = df.loc[df['Dest'] == 'LAS']\n",
    "b = a.loc[df['UniqueCarrier'] == 'WN']\n",
    "df_flights = b[['Year', 'Month', 'DayofMonth', 'DayOfWeek',\n",
    "                'CRSArrTime','CRSElapsedTime','ArrDelay',\n",
    "                'DepDelay','TaxiIn', 'TaxiOut','Cancelled']]\n",
    "df_flights.head(3)"
   ]
  },
  {
   "cell_type": "code",
   "execution_count": 76,
   "id": "59f26468-4623-4430-bab2-2cf9aed801c1",
   "metadata": {},
   "outputs": [
    {
     "data": {
      "text/html": [
       "<div>\n",
       "<style scoped>\n",
       "    .dataframe tbody tr th:only-of-type {\n",
       "        vertical-align: middle;\n",
       "    }\n",
       "\n",
       "    .dataframe tbody tr th {\n",
       "        vertical-align: top;\n",
       "    }\n",
       "\n",
       "    .dataframe thead th {\n",
       "        text-align: right;\n",
       "    }\n",
       "</style>\n",
       "<table border=\"1\" class=\"dataframe\">\n",
       "  <thead>\n",
       "    <tr style=\"text-align: right;\">\n",
       "      <th></th>\n",
       "      <th>Year</th>\n",
       "      <th>Month</th>\n",
       "      <th>DayofMonth</th>\n",
       "      <th>DayOfWeek</th>\n",
       "      <th>CRSArrTime</th>\n",
       "      <th>CRSElapsedTime</th>\n",
       "      <th>ArrDelay</th>\n",
       "      <th>DepDelay</th>\n",
       "      <th>TaxiIn</th>\n",
       "      <th>TaxiOut</th>\n",
       "    </tr>\n",
       "  </thead>\n",
       "  <tbody>\n",
       "    <tr>\n",
       "      <th>5</th>\n",
       "      <td>2008</td>\n",
       "      <td>1</td>\n",
       "      <td>3</td>\n",
       "      <td>4</td>\n",
       "      <td>1940</td>\n",
       "      <td>250.0</td>\n",
       "      <td>57.0</td>\n",
       "      <td>67.0</td>\n",
       "      <td>3.0</td>\n",
       "      <td>7.0</td>\n",
       "    </tr>\n",
       "    <tr>\n",
       "      <th>243</th>\n",
       "      <td>2008</td>\n",
       "      <td>1</td>\n",
       "      <td>3</td>\n",
       "      <td>4</td>\n",
       "      <td>1530</td>\n",
       "      <td>65.0</td>\n",
       "      <td>24.0</td>\n",
       "      <td>36.0</td>\n",
       "      <td>4.0</td>\n",
       "      <td>8.0</td>\n",
       "    </tr>\n",
       "    <tr>\n",
       "      <th>244</th>\n",
       "      <td>2008</td>\n",
       "      <td>1</td>\n",
       "      <td>3</td>\n",
       "      <td>4</td>\n",
       "      <td>1240</td>\n",
       "      <td>65.0</td>\n",
       "      <td>33.0</td>\n",
       "      <td>30.0</td>\n",
       "      <td>3.0</td>\n",
       "      <td>18.0</td>\n",
       "    </tr>\n",
       "  </tbody>\n",
       "</table>\n",
       "</div>"
      ],
      "text/plain": [
       "     Year  Month  DayofMonth  DayOfWeek  CRSArrTime  CRSElapsedTime  ArrDelay  \\\n",
       "5    2008      1           3          4        1940           250.0      57.0   \n",
       "243  2008      1           3          4        1530            65.0      24.0   \n",
       "244  2008      1           3          4        1240            65.0      33.0   \n",
       "\n",
       "     DepDelay  TaxiIn  TaxiOut  \n",
       "5        67.0     3.0      7.0  \n",
       "243      36.0     4.0      8.0  \n",
       "244      30.0     3.0     18.0  "
      ]
     },
     "execution_count": 76,
     "metadata": {},
     "output_type": "execute_result"
    }
   ],
   "source": [
    "#deleting rows with cancelled flights\n",
    "df_flights = df_flights.loc[df_flights['Cancelled'] == 0]\n",
    "df_flights.drop('Cancelled',axis=1, inplace=True)\n",
    "df_flights.head(3)"
   ]
  },
  {
   "cell_type": "code",
   "execution_count": 77,
   "id": "8aba6f17-7564-4945-b418-b470feb0be92",
   "metadata": {},
   "outputs": [
    {
     "data": {
      "text/html": [
       "<div>\n",
       "<style scoped>\n",
       "    .dataframe tbody tr th:only-of-type {\n",
       "        vertical-align: middle;\n",
       "    }\n",
       "\n",
       "    .dataframe tbody tr th {\n",
       "        vertical-align: top;\n",
       "    }\n",
       "\n",
       "    .dataframe thead th {\n",
       "        text-align: right;\n",
       "    }\n",
       "</style>\n",
       "<table border=\"1\" class=\"dataframe\">\n",
       "  <thead>\n",
       "    <tr style=\"text-align: right;\">\n",
       "      <th></th>\n",
       "      <th>Year</th>\n",
       "      <th>Month</th>\n",
       "      <th>DayofMonth</th>\n",
       "      <th>DayOfWeek</th>\n",
       "      <th>CRSArrTime</th>\n",
       "      <th>CRSElapsedTime</th>\n",
       "      <th>ArrDelay</th>\n",
       "      <th>DepDelay</th>\n",
       "      <th>TaxiIn</th>\n",
       "      <th>TaxiOut</th>\n",
       "      <th>Label</th>\n",
       "    </tr>\n",
       "  </thead>\n",
       "  <tbody>\n",
       "    <tr>\n",
       "      <th>0</th>\n",
       "      <td>2008</td>\n",
       "      <td>1</td>\n",
       "      <td>3</td>\n",
       "      <td>4</td>\n",
       "      <td>1940</td>\n",
       "      <td>250.0</td>\n",
       "      <td>57.0</td>\n",
       "      <td>67.0</td>\n",
       "      <td>3.0</td>\n",
       "      <td>7.0</td>\n",
       "      <td>1</td>\n",
       "    </tr>\n",
       "    <tr>\n",
       "      <th>1</th>\n",
       "      <td>2008</td>\n",
       "      <td>1</td>\n",
       "      <td>3</td>\n",
       "      <td>4</td>\n",
       "      <td>1530</td>\n",
       "      <td>65.0</td>\n",
       "      <td>24.0</td>\n",
       "      <td>36.0</td>\n",
       "      <td>4.0</td>\n",
       "      <td>8.0</td>\n",
       "      <td>1</td>\n",
       "    </tr>\n",
       "    <tr>\n",
       "      <th>2</th>\n",
       "      <td>2008</td>\n",
       "      <td>1</td>\n",
       "      <td>3</td>\n",
       "      <td>4</td>\n",
       "      <td>1240</td>\n",
       "      <td>65.0</td>\n",
       "      <td>33.0</td>\n",
       "      <td>30.0</td>\n",
       "      <td>3.0</td>\n",
       "      <td>18.0</td>\n",
       "      <td>1</td>\n",
       "    </tr>\n",
       "  </tbody>\n",
       "</table>\n",
       "</div>"
      ],
      "text/plain": [
       "   Year  Month  DayofMonth  DayOfWeek  CRSArrTime  CRSElapsedTime  ArrDelay  \\\n",
       "0  2008      1           3          4        1940           250.0      57.0   \n",
       "1  2008      1           3          4        1530            65.0      24.0   \n",
       "2  2008      1           3          4        1240            65.0      33.0   \n",
       "\n",
       "   DepDelay  TaxiIn  TaxiOut  Label  \n",
       "0      67.0     3.0      7.0      1  \n",
       "1      36.0     4.0      8.0      1  \n",
       "2      30.0     3.0     18.0      1  "
      ]
     },
     "execution_count": 77,
     "metadata": {},
     "output_type": "execute_result"
    }
   ],
   "source": [
    "#arrdelay > 0 or not? 1-yes, 0-not\n",
    "df_flights['Label'] = np.where(df_flights['ArrDelay'] > 0, 1, 0)\n",
    "df_flights.reset_index(inplace=True,drop=True)\n",
    "df_flights.head(3)"
   ]
  },
  {
   "cell_type": "code",
   "execution_count": 78,
   "id": "e0471c63-7acc-4fb2-a90c-93a7a36a00a9",
   "metadata": {},
   "outputs": [
    {
     "data": {
      "text/plain": [
       "(25226, 11)"
      ]
     },
     "execution_count": 78,
     "metadata": {},
     "output_type": "execute_result"
    }
   ],
   "source": [
    "df_flights.shape"
   ]
  },
  {
   "cell_type": "code",
   "execution_count": 79,
   "id": "d5d1004b-0451-477c-b884-d22ac60b6cc0",
   "metadata": {},
   "outputs": [
    {
     "data": {
      "text/plain": [
       "Year                0\n",
       "Month               0\n",
       "DayofMonth          0\n",
       "DayOfWeek           0\n",
       "CRSArrTime          0\n",
       "CRSElapsedTime      0\n",
       "ArrDelay          138\n",
       "DepDelay            0\n",
       "TaxiIn            135\n",
       "TaxiOut             0\n",
       "Label               0\n",
       "dtype: int64"
      ]
     },
     "execution_count": 79,
     "metadata": {},
     "output_type": "execute_result"
    }
   ],
   "source": [
    "#Do I have complete values dataset? how many NaN values I have?\n",
    "df_flights.isnull().sum()"
   ]
  },
  {
   "cell_type": "code",
   "execution_count": 80,
   "id": "93ea5a65-d4c8-468e-b4b8-3baab96a727e",
   "metadata": {},
   "outputs": [],
   "source": [
    "#arithmetic mean for missing values\n",
    "df_flights['ArrDelay']=df_flights['ArrDelay'].fillna(df_flights['ArrDelay'].mean())\n",
    "df_flights['TaxiIn']=df_flights['TaxiIn'].fillna(df_flights['TaxiIn'].mean())"
   ]
  },
  {
   "cell_type": "code",
   "execution_count": 81,
   "id": "f5c259b9-a63b-4c4d-b7f5-43873a153c56",
   "metadata": {},
   "outputs": [
    {
     "data": {
      "image/png": "[encoded data removed]",
      "text/plain": [
       "<Figure size 1080x288 with 2 Axes>"
      ]
     },
     "metadata": {},
     "output_type": "display_data"
    }
   ],
   "source": [
    "#Correlation matrix - ajusting input values acording this map -  better not to get high correlations\n",
    "fig,ax = plt.subplots(figsize=(15,4))\n",
    "corr = df_flights.corr()\n",
    "sns.set_theme(style=\"white\")\n",
    "cmap = sns.diverging_palette(230, 20, as_cmap=True)\n",
    "\n",
    "matrix = np.triu(corr)\n",
    "sns.heatmap(corr, annot=True, mask=matrix, cmap=cmap)\n",
    "plt.show()"
   ]
  },
  {
   "cell_type": "markdown",
   "id": "0a185a96-2d4b-4173-ab36-67268997944f",
   "metadata": {
    "tags": []
   },
   "source": [
    "#### Train and test samples"
   ]
  },
  {
   "cell_type": "markdown",
   "id": "5dec08ac-63ee-436f-b9dc-57ba26805c3c",
   "metadata": {},
   "source": [
    "I will work with stratified random sample to have all values proportionaly included (ArrDelay=0, ArrDelay=1)."
   ]
  },
  {
   "cell_type": "code",
   "execution_count": 82,
   "id": "eb69b353-a64d-436d-ba9b-0a63ba55f8af",
   "metadata": {},
   "outputs": [
    {
     "data": {
      "text/html": [
       "<div>\n",
       "<style scoped>\n",
       "    .dataframe tbody tr th:only-of-type {\n",
       "        vertical-align: middle;\n",
       "    }\n",
       "\n",
       "    .dataframe tbody tr th {\n",
       "        vertical-align: top;\n",
       "    }\n",
       "\n",
       "    .dataframe thead th {\n",
       "        text-align: right;\n",
       "    }\n",
       "</style>\n",
       "<table border=\"1\" class=\"dataframe\">\n",
       "  <thead>\n",
       "    <tr style=\"text-align: right;\">\n",
       "      <th></th>\n",
       "      <th>Year</th>\n",
       "      <th>Month</th>\n",
       "      <th>DayofMonth</th>\n",
       "      <th>DayOfWeek</th>\n",
       "      <th>CRSArrTime</th>\n",
       "      <th>CRSElapsedTime</th>\n",
       "      <th>ArrDelay</th>\n",
       "      <th>DepDelay</th>\n",
       "      <th>TaxiIn</th>\n",
       "      <th>TaxiOut</th>\n",
       "      <th>Label</th>\n",
       "    </tr>\n",
       "  </thead>\n",
       "  <tbody>\n",
       "    <tr>\n",
       "      <th>0</th>\n",
       "      <td>2008</td>\n",
       "      <td>12</td>\n",
       "      <td>23</td>\n",
       "      <td>2</td>\n",
       "      <td>1125</td>\n",
       "      <td>255.0</td>\n",
       "      <td>-4.0</td>\n",
       "      <td>6.0</td>\n",
       "      <td>3.0</td>\n",
       "      <td>9.0</td>\n",
       "      <td>0</td>\n",
       "    </tr>\n",
       "    <tr>\n",
       "      <th>1</th>\n",
       "      <td>2008</td>\n",
       "      <td>9</td>\n",
       "      <td>29</td>\n",
       "      <td>1</td>\n",
       "      <td>1700</td>\n",
       "      <td>130.0</td>\n",
       "      <td>-1.0</td>\n",
       "      <td>6.0</td>\n",
       "      <td>8.0</td>\n",
       "      <td>8.0</td>\n",
       "      <td>0</td>\n",
       "    </tr>\n",
       "    <tr>\n",
       "      <th>2</th>\n",
       "      <td>2008</td>\n",
       "      <td>7</td>\n",
       "      <td>1</td>\n",
       "      <td>2</td>\n",
       "      <td>1825</td>\n",
       "      <td>230.0</td>\n",
       "      <td>-13.0</td>\n",
       "      <td>8.0</td>\n",
       "      <td>5.0</td>\n",
       "      <td>8.0</td>\n",
       "      <td>0</td>\n",
       "    </tr>\n",
       "  </tbody>\n",
       "</table>\n",
       "</div>"
      ],
      "text/plain": [
       "   Year  Month  DayofMonth  DayOfWeek  CRSArrTime  CRSElapsedTime  ArrDelay  \\\n",
       "0  2008     12          23          2        1125           255.0      -4.0   \n",
       "1  2008      9          29          1        1700           130.0      -1.0   \n",
       "2  2008      7           1          2        1825           230.0     -13.0   \n",
       "\n",
       "   DepDelay  TaxiIn  TaxiOut  Label  \n",
       "0       6.0     3.0      9.0      0  \n",
       "1       6.0     8.0      8.0      0  \n",
       "2       8.0     5.0      8.0      0  "
      ]
     },
     "execution_count": 82,
     "metadata": {},
     "output_type": "execute_result"
    }
   ],
   "source": [
    "#stratified random sample - take 50 flights with delay and 50 with no delay\n",
    "group1 = df_flights[df_flights['Label'] == 0]\n",
    "group2 = df_flights[df_flights['Label'] == 1]\n",
    "flights_df1 = group1.sample(n = 100)\n",
    "flights_df2 = group2.sample(n = 100)\n",
    "df_flights_sample = flights_df1.append((flights_df2),ignore_index = True)\n",
    "df_flights_sample.head(3)"
   ]
  },
  {
   "cell_type": "code",
   "execution_count": 83,
   "id": "732e696a-657d-471c-af29-705b5d1c1206",
   "metadata": {},
   "outputs": [],
   "source": [
    "X = df_flights_sample.drop('Label',axis=1)\n",
    "y = df_flights_sample['Label']\n",
    "#Train 70%, test 30%\n",
    "X_train, X_test, y_train, y_test = train_test_split(X, y, test_size=0.3, random_state=42)"
   ]
  },
  {
   "cell_type": "code",
   "execution_count": 84,
   "id": "0f73cc97-8240-4ebd-b1a9-73f119a3a63e",
   "metadata": {},
   "outputs": [
    {
     "name": "stdout",
     "output_type": "stream",
     "text": [
      "(140, 10) (140,) (60, 10) (60,)\n"
     ]
    }
   ],
   "source": [
    "print(X_train.shape,y_train.shape, X_test.shape, y_test.shape)"
   ]
  },
  {
   "cell_type": "code",
   "execution_count": 85,
   "id": "98ae4737-cab7-45cf-a3ca-a36787aea930",
   "metadata": {},
   "outputs": [],
   "source": [
    "#scaling the values\n",
    "scaler = StandardScaler()\n",
    "scaler.fit(X_train)\n",
    "X_train = scaler.transform(X_train)\n",
    "X_test = scaler.transform(X_test)"
   ]
  },
  {
   "cell_type": "markdown",
   "id": "4ee9a32e-8f4b-441c-8ce4-0d7b26dc4771",
   "metadata": {},
   "source": [
    "#### Decision tree classifier"
   ]
  },
  {
   "cell_type": "code",
   "execution_count": 180,
   "id": "f22cca39-c32e-46cb-9a31-893c781c51af",
   "metadata": {},
   "outputs": [],
   "source": [
    "model1 = DecisionTreeClassifier(criterion='gini', splitter='random')\n",
    "model1 = model1.fit(X_train,y_train)\n",
    "y_pred1 = model1.predict(X_test)"
   ]
  },
  {
   "cell_type": "markdown",
   "id": "9573fe51-7724-4a23-95f9-7f0b077a094c",
   "metadata": {},
   "source": [
    "#### K-Nearest Neighbors classifier"
   ]
  },
  {
   "cell_type": "code",
   "execution_count": 93,
   "id": "55272ba4-bb53-4a0a-af09-230a882716df",
   "metadata": {},
   "outputs": [],
   "source": [
    "model2 = KNeighborsClassifier()\n",
    "model2.fit(X_train, y_train)\n",
    "y_pred2 = model2.predict(X_test)"
   ]
  },
  {
   "cell_type": "markdown",
   "id": "2d3980e1-0abf-4ec9-9d29-18c8c3908a98",
   "metadata": {},
   "source": [
    "#### Support vector machine classifier"
   ]
  },
  {
   "cell_type": "code",
   "execution_count": 94,
   "id": "eeca5cf8-431a-40e7-8327-58b3032ad56f",
   "metadata": {},
   "outputs": [],
   "source": [
    "model3 = svm.SVC()\n",
    "model3.fit(X_train, y_train)\n",
    "y_pred3 = model3.predict(X_test)"
   ]
  },
  {
   "cell_type": "markdown",
   "id": "5e84acc4-54cf-4f9b-af19-6b205326b2c7",
   "metadata": {},
   "source": [
    "#### Logistic classifier"
   ]
  },
  {
   "cell_type": "code",
   "execution_count": 95,
   "id": "7c989f75-b487-43b0-bb5d-d99596328aa2",
   "metadata": {},
   "outputs": [],
   "source": [
    "model4 = LogisticRegression()\n",
    "model4.fit(X_train,y_train)\n",
    "y_pred4 = model4.predict(X_test)"
   ]
  },
  {
   "cell_type": "markdown",
   "id": "22c329cf-4e90-4c22-befa-9ee9c9e25916",
   "metadata": {},
   "source": [
    "#### XGBoost classifier"
   ]
  },
  {
   "cell_type": "code",
   "execution_count": 332,
   "id": "fc229cdb-4b25-4984-a707-d788224a54eb",
   "metadata": {},
   "outputs": [],
   "source": [
    "model5 = xgb.XGBRegressor()\n",
    "model5.fit(X_train,y_train)\n",
    "predictions = model5.predict(X_test)\n",
    "y_pred5 = [round(value) for value in predictions]"
   ]
  },
  {
   "cell_type": "markdown",
   "id": "defc84bb-529d-4326-9feb-b4bc742a7c87",
   "metadata": {},
   "source": [
    "### Exercise 2"
   ]
  },
  {
   "cell_type": "markdown",
   "id": "1382346e-90d8-4a5b-94e2-5ec9d2e9f042",
   "metadata": {},
   "source": [
    "##### Compare these models with accuracy, confusion matrix and other advanced metrics"
   ]
  },
  {
   "cell_type": "markdown",
   "id": "bced6575-7159-42d4-aeda-d8c86d6f7f0f",
   "metadata": {},
   "source": [
    "#### Accuracy"
   ]
  },
  {
   "cell_type": "code",
   "execution_count": 333,
   "id": "3e4d5f90-4788-49ce-88ff-ccc4f9a6d427",
   "metadata": {},
   "outputs": [
    {
     "name": "stdout",
     "output_type": "stream",
     "text": [
      "Accuracy decision tree model: 87.0 %\n",
      "Accuracy KNN model: 70.0 %\n",
      "Accuracy SVM model: 77.0 %\n",
      "Accuracy Logistic model: 83.0 %\n",
      "Accuracy XGBoost model: 93.0 %\n"
     ]
    }
   ],
   "source": [
    "print('Accuracy decision tree model:',round(metrics.accuracy_score(y_test, y_pred1),2)*100,'%')\n",
    "print('Accuracy KNN model:',round(metrics.accuracy_score(y_test, y_pred2),2)*100,'%')\n",
    "print('Accuracy SVM model:',round(metrics.accuracy_score(y_test, y_pred3),2)*100,'%')\n",
    "print('Accuracy Logistic model:',round(metrics.accuracy_score(y_test, y_pred4),2)*100,'%')\n",
    "print('Accuracy XGBoost model:',round(metrics.accuracy_score(y_test, y_pred5),2)*100,'%')"
   ]
  },
  {
   "cell_type": "markdown",
   "id": "75f6f0e6-1f26-4c53-90c7-b0f8d3a41ecd",
   "metadata": {},
   "source": [
    "The XGBoost model and Decision Tree model have the best results in accuracy. Nevertheless this metrics doesn't distinguish in detail the errors (false positive and false negative). That's why we use other metrics like Sensitivity, Specificity, Precision and F1 score."
   ]
  },
  {
   "cell_type": "markdown",
   "id": "5eb2391e-a61b-4e66-83de-75d6686a2c3c",
   "metadata": {},
   "source": [
    "#### Confusion matrix"
   ]
  },
  {
   "cell_type": "code",
   "execution_count": 182,
   "id": "39d5a6d0-893d-468c-9288-32ca0c5e8003",
   "metadata": {},
   "outputs": [
    {
     "name": "stdout",
     "output_type": "stream",
     "text": [
      "Matrix decision tree model: [[26  5]\n",
      " [ 3 26]]\n",
      "Matrix KNN model: [[21 10]\n",
      " [ 8 21]]\n",
      "Matrix SVM model: [[23  8]\n",
      " [ 6 23]]\n",
      "Matrix model: [[26  5]\n",
      " [ 5 24]]\n",
      "Matrix XGBoost model: [[27  4]\n",
      " [ 0 29]]\n"
     ]
    }
   ],
   "source": [
    "m1 = metrics.confusion_matrix(y_test, y_pred1)\n",
    "m2 = metrics.confusion_matrix(y_test, y_pred2)\n",
    "m3 = metrics.confusion_matrix(y_test, y_pred3)\n",
    "m4 = metrics.confusion_matrix(y_test, y_pred4)\n",
    "m5 = metrics.confusion_matrix(y_test, y_pred5)\n",
    "\n",
    "print('Matrix decision tree model:',m1)\n",
    "print('Matrix KNN model:',m2)\n",
    "print('Matrix SVM model:',m3)\n",
    "print('Matrix model:',m4)\n",
    "print('Matrix XGBoost model:',m5)"
   ]
  },
  {
   "cell_type": "markdown",
   "id": "68f55036-75a9-498e-89fb-ce5bde0d0d21",
   "metadata": {},
   "source": [
    "The matrix means: [[true positive,false negative] [false positive,true negative]]"
   ]
  },
  {
   "cell_type": "code",
   "execution_count": 454,
   "id": "9d8fa358-8861-4531-b9a5-1d7d7025f051",
   "metadata": {},
   "outputs": [
    {
     "name": "stdout",
     "output_type": "stream",
     "text": [
      "Sensitivity decision tree model: 0.896551724137931\n",
      "Sensitivity KNN model: 0.7241379310344828\n",
      "Sensitivity SVM model: 0.7931034482758621\n",
      "Sensitivity Logistic model: 0.8275862068965517\n",
      "Sensitivity XGBoost model: 1.0\n"
     ]
    }
   ],
   "source": [
    "#sensitivity TP / (TP + FN)\n",
    "s1 = m1[1,1] / (m1[1,1] + m1[1,0])\n",
    "s2 = m2[1,1] / (m2[1,1] + m2[1,0])\n",
    "s3 = m3[1,1] / (m3[1,1] + m3[1,0])\n",
    "s4 = m4[1,1] / (m4[1,1] + m4[1,0])\n",
    "s5 = m5[1,1] / (m5[1,1] + m5[1,0])\n",
    "\n",
    "print('Sensitivity decision tree model:',s1)\n",
    "print('Sensitivity KNN model:',s2)\n",
    "print('Sensitivity SVM model:',s3)\n",
    "print('Sensitivity Logistic model:',s4)\n",
    "print('Sensitivity XGBoost model:',s5)"
   ]
  },
  {
   "cell_type": "markdown",
   "id": "16ff6a6b-cf3f-476e-b886-b41ad1b3807a",
   "metadata": {},
   "source": [
    "The Decision tree model and XGBoost model has the best results in test of sensitivity. Normally we would prefer a model with a maximum sensitivity, as it minimizes the occurrences of a type II error."
   ]
  },
  {
   "cell_type": "code",
   "execution_count": 259,
   "id": "9d9b0ce8-0272-4800-9f0c-6f9ed7891df3",
   "metadata": {},
   "outputs": [
    {
     "name": "stdout",
     "output_type": "stream",
     "text": [
      "F1 score decision tree model: 0.8666666666666666\n",
      "F1 score KNN model: 0.7\n",
      "F1 score SVM model: 0.7666666666666667\n",
      "F1 score Logistic model: 0.8275862068965517\n",
      "F1 score XGBoost model: 0.9354838709677419\n"
     ]
    }
   ],
   "source": [
    "f1 = f1_score(y_test, y_pred1)\n",
    "f2 = f1_score(y_test, y_pred2)\n",
    "f3 = f1_score(y_test, y_pred3)\n",
    "f4 = f1_score(y_test, y_pred4)\n",
    "f5 = f1_score(y_test, y_pred5)\n",
    "\n",
    "print('F1 score decision tree model:',f1)\n",
    "print('F1 score KNN model:',f2)\n",
    "print('F1 score SVM model:',f3)\n",
    "print('F1 score Logistic model:',f4)\n",
    "print('F1 score XGBoost model:',f5)"
   ]
  },
  {
   "cell_type": "markdown",
   "id": "b55d5752-e557-43f8-8479-60203fb3ad68",
   "metadata": {},
   "source": [
    "F1 score summarizes both precision and recall."
   ]
  },
  {
   "cell_type": "markdown",
   "id": "f1180827-819e-4114-9fcf-c206d63f1707",
   "metadata": {},
   "source": [
    "#### ROC curve"
   ]
  },
  {
   "cell_type": "code",
   "execution_count": 185,
   "id": "fa2533f9-1cf2-409a-854f-2ddf5fec7dbf",
   "metadata": {},
   "outputs": [
    {
     "data": {
      "image/png": "[encoded data removed]",
      "text/plain": [
       "<Figure size 432x288 with 1 Axes>"
      ]
     },
     "metadata": {},
     "output_type": "display_data"
    }
   ],
   "source": [
    "#ROC - summarizes the performance of the model at different threshold values\n",
    "fpr1, tpr1, thresholds1 = metrics.roc_curve(y_test, y_pred1)\n",
    "\n",
    "plt.plot(fpr1, tpr1)\n",
    "plt.xlim([0.0, 1.0])\n",
    "plt.ylim([0.0, 1.0])\n",
    "plt.rcParams['font.size'] = 12\n",
    "plt.title('ROC curve for decision tree classifier')\n",
    "plt.xlabel('False Positive Rate (1 - Specificity)')\n",
    "plt.ylabel('True Positive Rate (Sensitivity)')\n",
    "plt.grid(True)"
   ]
  },
  {
   "cell_type": "code",
   "execution_count": 186,
   "id": "d0fc50c0-2c7a-40a3-960d-1e8120c4513f",
   "metadata": {},
   "outputs": [
    {
     "name": "stdout",
     "output_type": "stream",
     "text": [
      "Sensitivity: 0.896551724137931\n",
      "Specificity: 0.8387096774193549\n"
     ]
    }
   ],
   "source": [
    "def evaluate_threshold(threshold1):\n",
    "    print('Sensitivity:', tpr1[thresholds1 > threshold1][-1])\n",
    "    print('Specificity:', 1 - fpr1[thresholds1 > threshold1][-1])\n",
    "evaluate_threshold(0.5)"
   ]
  },
  {
   "cell_type": "code",
   "execution_count": 386,
   "id": "b59f5ef4-7c67-4e68-b2ff-0ff3edbe65c1",
   "metadata": {},
   "outputs": [
    {
     "name": "stdout",
     "output_type": "stream",
     "text": [
      "AUC of decision tree model: 87.0 %\n"
     ]
    }
   ],
   "source": [
    "#AUC - area under the curve - the best is AUC=1\n",
    "print('AUC of decision tree model:',round(metrics.roc_auc_score(y_test, y_pred1),2)*100,'%')"
   ]
  },
  {
   "cell_type": "code",
   "execution_count": 106,
   "id": "98f521bb-1e2b-4ef1-97d0-2ad837cde4af",
   "metadata": {},
   "outputs": [
    {
     "data": {
      "image/png": "[encoded data removed]",
      "text/plain": [
       "<Figure size 432x288 with 1 Axes>"
      ]
     },
     "metadata": {},
     "output_type": "display_data"
    }
   ],
   "source": [
    "fpr2, tpr2, thresholds2 = metrics.roc_curve(y_test, y_pred2)\n",
    "\n",
    "plt.plot(fpr2, tpr2)\n",
    "plt.xlim([0.0, 1.0])\n",
    "plt.ylim([0.0, 1.0])\n",
    "plt.rcParams['font.size'] = 12\n",
    "plt.title('ROC curve for KNN classifier')\n",
    "plt.xlabel('False Positive Rate (1 - Specificity)')\n",
    "plt.ylabel('True Positive Rate (Sensitivity)')\n",
    "plt.grid(True)"
   ]
  },
  {
   "cell_type": "code",
   "execution_count": 107,
   "id": "c1cc2940-2a62-4898-9354-d596f88556c8",
   "metadata": {},
   "outputs": [
    {
     "name": "stdout",
     "output_type": "stream",
     "text": [
      "Sensitivity: 0.7241379310344828\n",
      "Specificity: 0.6774193548387097\n"
     ]
    }
   ],
   "source": [
    "def evaluate_threshold(threshold2):\n",
    "    print('Sensitivity:', tpr2[thresholds2 > threshold2][-1])\n",
    "    print('Specificity:', 1 - fpr2[thresholds2 > threshold2][-1])\n",
    "evaluate_threshold(0.5)"
   ]
  },
  {
   "cell_type": "code",
   "execution_count": 108,
   "id": "bc1184f3-5a2d-4d70-86ac-9cf689a328c6",
   "metadata": {},
   "outputs": [
    {
     "name": "stdout",
     "output_type": "stream",
     "text": [
      "AUC of decision tree model: 70.0 %\n"
     ]
    }
   ],
   "source": [
    "#AUC - area under the curve\n",
    "print('AUC of decision tree model:',round(metrics.roc_auc_score(y_test, y_pred2),2)*100,'%')"
   ]
  },
  {
   "cell_type": "code",
   "execution_count": 109,
   "id": "5b8b6661-02b8-41c8-a658-6eefe4f4ffb8",
   "metadata": {},
   "outputs": [
    {
     "data": {
      "image/png": "[encoded data removed]",
      "text/plain": [
       "<Figure size 432x288 with 1 Axes>"
      ]
     },
     "metadata": {},
     "output_type": "display_data"
    }
   ],
   "source": [
    "fpr3, tpr3, thresholds3 = metrics.roc_curve(y_test, y_pred3)\n",
    "\n",
    "plt.plot(fpr3, tpr3)\n",
    "plt.xlim([0.0, 1.0])\n",
    "plt.ylim([0.0, 1.0])\n",
    "plt.rcParams['font.size'] = 12\n",
    "plt.title('ROC curve for KNN classifier')\n",
    "plt.xlabel('False Positive Rate (1 - Specificity)')\n",
    "plt.ylabel('True Positive Rate (Sensitivity)')\n",
    "plt.grid(True)"
   ]
  },
  {
   "cell_type": "code",
   "execution_count": 110,
   "id": "75bb012c-9244-4188-a8dc-d0259a930887",
   "metadata": {},
   "outputs": [
    {
     "name": "stdout",
     "output_type": "stream",
     "text": [
      "Sensitivity: 0.7931034482758621\n",
      "Specificity: 0.7419354838709677\n"
     ]
    }
   ],
   "source": [
    "def evaluate_threshold(threshold3):\n",
    "    print('Sensitivity:', tpr3[thresholds3 > threshold3][-1])\n",
    "    print('Specificity:', 1 - fpr3[thresholds3 > threshold3][-1])\n",
    "evaluate_threshold(0.5)"
   ]
  },
  {
   "cell_type": "code",
   "execution_count": 111,
   "id": "00d14225-c59b-475e-8e1e-f7ccee64c3d4",
   "metadata": {},
   "outputs": [
    {
     "name": "stdout",
     "output_type": "stream",
     "text": [
      "AUC of decision tree model: 77.0 %\n"
     ]
    }
   ],
   "source": [
    "#AUC - area under the curve\n",
    "print('AUC of decision tree model:',round(metrics.roc_auc_score(y_test, y_pred3),2)*100,'%')"
   ]
  },
  {
   "cell_type": "markdown",
   "id": "91c8d411-4664-4299-8f76-7e2c76764847",
   "metadata": {},
   "source": [
    "### Exercise 3"
   ]
  },
  {
   "cell_type": "markdown",
   "id": "51f2f7d9-7337-468e-bc05-a9e7a4c99f2b",
   "metadata": {},
   "source": [
    "##### Train models with different parameters"
   ]
  },
  {
   "cell_type": "markdown",
   "id": "822a376b-5acb-4869-8ecb-e59025097295",
   "metadata": {},
   "source": [
    "#### Decision tree classifier"
   ]
  },
  {
   "cell_type": "code",
   "execution_count": 176,
   "id": "105766f9-c67b-42e1-8422-32878bd265a1",
   "metadata": {},
   "outputs": [],
   "source": [
    "model6 = DecisionTreeClassifier(criterion='entropy', splitter='best')\n",
    "model6 = model6.fit(X_train,y_train)\n",
    "y_pred6 = model6.predict(X_test)"
   ]
  },
  {
   "cell_type": "markdown",
   "id": "9d7d8f0a-4c8c-47eb-b0cd-f38ff683909e",
   "metadata": {},
   "source": [
    "#### K-Nearest Neighbors classifier"
   ]
  },
  {
   "cell_type": "code",
   "execution_count": 403,
   "id": "d96ed682-256e-4753-ab00-afe3c26954fe",
   "metadata": {},
   "outputs": [],
   "source": [
    "model7 = KNeighborsClassifier(n_neighbors=1, weights='distance',leaf_size=50)\n",
    "model7.fit(X_train, y_train)\n",
    "y_pred7 = model7.predict(X_test)"
   ]
  },
  {
   "cell_type": "markdown",
   "id": "43fe175a-b78f-4171-887b-9e37f851b2fd",
   "metadata": {},
   "source": [
    "#### Support vector machine classifier"
   ]
  },
  {
   "cell_type": "code",
   "execution_count": 209,
   "id": "adfefaef-7b69-47f5-a11b-9ed64e9ea16e",
   "metadata": {},
   "outputs": [],
   "source": [
    "model8 = svm.SVC(kernel='linear', coef0=1.0, random_state=42)\n",
    "model8.fit(X_train, y_train)\n",
    "y_pred8 = model8.predict(X_test)"
   ]
  },
  {
   "cell_type": "markdown",
   "id": "92cea3db-1f73-4903-a1f8-515ef25f0074",
   "metadata": {},
   "source": [
    "#### Logistic classifier"
   ]
  },
  {
   "cell_type": "code",
   "execution_count": 234,
   "id": "5808d68d-65ac-4441-9186-e4a0f9dfe134",
   "metadata": {},
   "outputs": [],
   "source": [
    "model9 = LogisticRegression(class_weight='balanced',solver= 'newton-cg', multi_class='multinomial', random_state=42)\n",
    "model9.fit(X_train,y_train)\n",
    "y_pred9 = model9.predict(X_test)"
   ]
  },
  {
   "cell_type": "markdown",
   "id": "48f81b46-f8cc-4dd2-957c-69bae61075aa",
   "metadata": {},
   "source": [
    "#### XGBoost classifier"
   ]
  },
  {
   "cell_type": "code",
   "execution_count": 293,
   "id": "6c3eae4f-3fc1-4715-a79b-ba5921c0d069",
   "metadata": {},
   "outputs": [
    {
     "name": "stdout",
     "output_type": "stream",
     "text": [
      "Fitting 5 folds for each of 54 candidates, totalling 270 fits\n",
      "Best parameters: {'colsample_bytree': 0.7, 'learning_rate': 0.01, 'max_depth': 3, 'n_estimators': 1000}\n"
     ]
    }
   ],
   "source": [
    "#looking for the best parameters\n",
    "#https://towardsdatascience.com/xgboost-fine-tune-and-optimize-your-model-23d996fab663\n",
    "params = { 'max_depth': [3,6,10],\n",
    "           'learning_rate': [0.01, 0.05, 0.1],\n",
    "           'n_estimators': [100, 500, 1000],\n",
    "           'colsample_bytree': [0.3, 0.7]}\n",
    "\n",
    "xgbr = xgb.XGBRegressor(seed = 20)\n",
    "model10 = GridSearchCV(estimator=xgbr, \n",
    "                   param_grid=params,\n",
    "                   scoring='neg_mean_squared_error', \n",
    "                   verbose=1)\n",
    "\n",
    "model10.fit(X_train,y_train)\n",
    "print(\"Best parameters:\", model10.best_params_)"
   ]
  },
  {
   "cell_type": "code",
   "execution_count": 295,
   "id": "80a1ad92-9f43-4490-bbbb-00567c1435ac",
   "metadata": {},
   "outputs": [],
   "source": [
    "model10 = xgb.XGBRegressor(colsample_bytree= 0.7, learning_rate= 0.01, max_depth= 3, n_estimators=1000)\n",
    "model10.fit(X_train,y_train)\n",
    "predictions = model10.predict(X_test)\n",
    "y_pred10 = [round(value) for value in predictions]"
   ]
  },
  {
   "cell_type": "markdown",
   "id": "9362c324-5f7a-4f8c-b7a7-0d10570161df",
   "metadata": {},
   "source": [
    "### Exercise 4"
   ]
  },
  {
   "cell_type": "markdown",
   "id": "030a09a5-4da7-4fbb-b37e-f0ed4e507464",
   "metadata": {},
   "source": [
    "##### Compare the models with train/test approximation and cross-validation"
   ]
  },
  {
   "cell_type": "code",
   "execution_count": 425,
   "id": "dedaa1e5-92c9-44cb-a80b-311ceeb396da",
   "metadata": {},
   "outputs": [
    {
     "data": {
      "image/png": "[encoded data removed]",
      "text/plain": [
       "<Figure size 1080x216 with 1 Axes>"
      ]
     },
     "metadata": {},
     "output_type": "display_data"
    }
   ],
   "source": [
    "#compare values from test and predict\n",
    "y1 = y_test.reset_index(drop=True)\n",
    "y2 = pd.Series(y_pred1)\n",
    "\n",
    "plt.figure(figsize =(15, 3))\n",
    "\n",
    "sns.lineplot(data=y1, color='#008ae6',label='original', marker='o')\n",
    "sns.lineplot(data=y2, color='#e6005c',label='predicted', marker='o')\n",
    "plt.title(\"Prediction of arrival delay with Decision Tree classifier\",fontsize=15)\n",
    "plt.xlabel(\"Arrival delay\",fontsize=12)\n",
    "plt.ylabel(\"Original and predicted data\",fontsize=12)\n",
    "\n",
    "plt.show()"
   ]
  },
  {
   "cell_type": "code",
   "execution_count": 404,
   "id": "92a5d7b5-6bb3-484b-a408-d4b5a02685ea",
   "metadata": {},
   "outputs": [
    {
     "data": {
      "text/html": [
       "<div>\n",
       "<style scoped>\n",
       "    .dataframe tbody tr th:only-of-type {\n",
       "        vertical-align: middle;\n",
       "    }\n",
       "\n",
       "    .dataframe tbody tr th {\n",
       "        vertical-align: top;\n",
       "    }\n",
       "\n",
       "    .dataframe thead th {\n",
       "        text-align: right;\n",
       "    }\n",
       "</style>\n",
       "<table border=\"1\" class=\"dataframe\">\n",
       "  <thead>\n",
       "    <tr style=\"text-align: right;\">\n",
       "      <th></th>\n",
       "      <th>First F1_score</th>\n",
       "      <th>Second F1_score</th>\n",
       "    </tr>\n",
       "  </thead>\n",
       "  <tbody>\n",
       "    <tr>\n",
       "      <th>DT</th>\n",
       "      <td>0.866667</td>\n",
       "      <td>0.935484</td>\n",
       "    </tr>\n",
       "    <tr>\n",
       "      <th>KNN</th>\n",
       "      <td>0.700000</td>\n",
       "      <td>0.745763</td>\n",
       "    </tr>\n",
       "    <tr>\n",
       "      <th>SVM</th>\n",
       "      <td>0.766667</td>\n",
       "      <td>0.900000</td>\n",
       "    </tr>\n",
       "    <tr>\n",
       "      <th>Logistic</th>\n",
       "      <td>0.827586</td>\n",
       "      <td>0.885246</td>\n",
       "    </tr>\n",
       "    <tr>\n",
       "      <th>XGBoost</th>\n",
       "      <td>0.935484</td>\n",
       "      <td>0.935484</td>\n",
       "    </tr>\n",
       "  </tbody>\n",
       "</table>\n",
       "</div>"
      ],
      "text/plain": [
       "          First F1_score  Second F1_score\n",
       "DT              0.866667         0.935484\n",
       "KNN             0.700000         0.745763\n",
       "SVM             0.766667         0.900000\n",
       "Logistic        0.827586         0.885246\n",
       "XGBoost         0.935484         0.935484"
      ]
     },
     "execution_count": 404,
     "metadata": {},
     "output_type": "execute_result"
    }
   ],
   "source": [
    "#comparing f1_scores\n",
    "f6 = f1_score(y_test, y_pred6)\n",
    "f7 = f1_score(y_test, y_pred7)\n",
    "f8 = f1_score(y_test, y_pred8)\n",
    "f9 = f1_score(y_test, y_pred9)\n",
    "f10 = f1_score(y_test, y_pred10)\n",
    "\n",
    "d1 = {'DT': f1, 'KNN': f2, 'SVM': f3, 'Logistic': f4, 'XGBoost': f5}\n",
    "class1 = pd.Series(data=d1, index=['DT', 'KNN', 'SVM', 'Logistic', 'XGBoost'])\n",
    "\n",
    "d2 = {'DT': f6, 'KNN': f7, 'SVM': f8, 'Logistic': f9, 'XGBoost': f10}\n",
    "class2 = pd.Series(data=d2, index=['DT', 'KNN', 'SVM', 'Logistic', 'XGBoost'])\n",
    "\n",
    "df_class = pd.DataFrame({'First F1_score':class1, 'Second F1_score':class2})\n",
    "df_class"
   ]
  },
  {
   "cell_type": "markdown",
   "id": "aedce50d-a4ec-469e-8338-6ea16c4a2f8d",
   "metadata": {},
   "source": [
    "Tuning changes:\n",
    "- Decision Tree: improvement with splitter='best'\n",
    "- KNN: improvement with lower number of neighbors, changing leaf size\n",
    "- SVM: improvement with linear kernel, default was rbf\n",
    "- LC: improvement with multi_class='multinomial'\n",
    "- XGB: no improvement, the model was already very accurate"
   ]
  },
  {
   "cell_type": "code",
   "execution_count": 405,
   "id": "f5434e6c-dfbd-4f09-90f6-da3edb1e296d",
   "metadata": {},
   "outputs": [
    {
     "name": "stdout",
     "output_type": "stream",
     "text": [
      " Decision tree classifier has 0.87 accuracy with a standard deviation of 0.07\n",
      " KNN classifier has 0.65 accuracy with a standard deviation of 0.06\n",
      " SVM classifier has 0.72 accuracy with a standard deviation of 0.08\n",
      " Logistic classifier has 0.88 accuracy with a standard deviation of 0.11\n",
      " XGBoost classifier has 0.93 accuracy with a standard deviation of 0.13\n"
     ]
    }
   ],
   "source": [
    "#Cross-validation\n",
    "cv = StratifiedKFold(n_splits=5, random_state=42, shuffle=True)\n",
    "\n",
    "scores1 = cross_val_score(model1, X_test, y_test, cv=cv)\n",
    "scores2 = cross_val_score(model2, X_test, y_test, cv=cv)\n",
    "scores3 = cross_val_score(model3, X_test, y_test, cv=cv)\n",
    "scores4 = cross_val_score(model4, X_test, y_test, cv=cv)\n",
    "scores5 = cross_val_score(model5, X_test, y_test, cv=cv)\n",
    "\n",
    "print(\" Decision tree classifier has %0.2f accuracy with a standard deviation of %0.2f\" % (scores1.mean(), scores1.std()))\n",
    "print(\" KNN classifier has %0.2f accuracy with a standard deviation of %0.2f\" % (scores2.mean(), scores2.std()))\n",
    "print(\" SVM classifier has %0.2f accuracy with a standard deviation of %0.2f\" % (scores3.mean(), scores3.std()))\n",
    "print(\" Logistic classifier has %0.2f accuracy with a standard deviation of %0.2f\" % (scores4.mean(), scores4.std()))\n",
    "print(\" XGBoost classifier has %0.2f accuracy with a standard deviation of %0.2f\" % (scores5.mean(), scores5.std()))"
   ]
  },
  {
   "cell_type": "markdown",
   "id": "3b15ea0f-2366-4785-8241-932c824bffdb",
   "metadata": {},
   "source": [
    "Conclusion:\n",
    "- The best classifier would be Decision Tree and XGBoost classifier.\n",
    "- The Stratified K-Fold is generelly better for classification problems, another one is ShuffleSplit used for regressions."
   ]
  },
  {
   "cell_type": "markdown",
   "id": "5b856efb-2607-4b20-99ca-821941d86cd0",
   "metadata": {},
   "source": [
    "## Level 2"
   ]
  },
  {
   "cell_type": "markdown",
   "id": "5b9adbf0-60f6-4d57-90f6-1219298f3f72",
   "metadata": {},
   "source": [
    "### Exercise 5"
   ]
  },
  {
   "cell_type": "markdown",
   "id": "d0a768a1-70e3-475d-9dca-f01dc27ddc9e",
   "metadata": {},
   "source": [
    "##### Feature-engineering process to get better prediction."
   ]
  },
  {
   "cell_type": "markdown",
   "id": "f0e3f4db-a430-4cec-b4cc-91ce15593d62",
   "metadata": {},
   "source": [
    "How can I deal with the outliers?"
   ]
  },
  {
   "cell_type": "code",
   "execution_count": 339,
   "id": "1ea5210a-33a3-4814-ae3b-aa9a29fe7478",
   "metadata": {},
   "outputs": [
    {
     "data": {
      "image/png": "[encoded data removed]",
      "text/plain": [
       "<Figure size 1080x216 with 1 Axes>"
      ]
     },
     "metadata": {},
     "output_type": "display_data"
    }
   ],
   "source": [
    "a = df_flights['ArrDelay']\n",
    "plt.figure(figsize=(15,3))\n",
    "sns.set_theme(style=\"whitegrid\")\n",
    "ax = sns.boxplot(a)"
   ]
  },
  {
   "cell_type": "code",
   "execution_count": 340,
   "id": "6d1789d1-f8d5-44b9-8e61-64f0b231d7bb",
   "metadata": {},
   "outputs": [
    {
     "name": "stdout",
     "output_type": "stream",
     "text": [
      "6.0 42.0\n"
     ]
    }
   ],
   "source": [
    "#eliminate outliers from Q1 and Q3 - 0.25 0.75\n",
    "Q1 = a.quantile(q=0.25)\n",
    "Q3 = a.quantile(q=0.75)\n",
    "print(Q1, Q3)"
   ]
  },
  {
   "cell_type": "code",
   "execution_count": 341,
   "id": "a2182ddf-2e80-4c63-9b6f-4e20c14efc65",
   "metadata": {},
   "outputs": [
    {
     "data": {
      "text/html": [
       "<div>\n",
       "<style scoped>\n",
       "    .dataframe tbody tr th:only-of-type {\n",
       "        vertical-align: middle;\n",
       "    }\n",
       "\n",
       "    .dataframe tbody tr th {\n",
       "        vertical-align: top;\n",
       "    }\n",
       "\n",
       "    .dataframe thead th {\n",
       "        text-align: right;\n",
       "    }\n",
       "</style>\n",
       "<table border=\"1\" class=\"dataframe\">\n",
       "  <thead>\n",
       "    <tr style=\"text-align: right;\">\n",
       "      <th></th>\n",
       "      <th>Year</th>\n",
       "      <th>Month</th>\n",
       "      <th>DayofMonth</th>\n",
       "      <th>DayOfWeek</th>\n",
       "      <th>CRSArrTime</th>\n",
       "      <th>CRSElapsedTime</th>\n",
       "      <th>ArrDelay</th>\n",
       "      <th>DepDelay</th>\n",
       "      <th>TaxiIn</th>\n",
       "      <th>TaxiOut</th>\n",
       "      <th>Label</th>\n",
       "    </tr>\n",
       "  </thead>\n",
       "  <tbody>\n",
       "    <tr>\n",
       "      <th>1</th>\n",
       "      <td>2008</td>\n",
       "      <td>1</td>\n",
       "      <td>3</td>\n",
       "      <td>4</td>\n",
       "      <td>1530</td>\n",
       "      <td>65.0</td>\n",
       "      <td>24.0</td>\n",
       "      <td>36.0</td>\n",
       "      <td>4.0</td>\n",
       "      <td>8.0</td>\n",
       "      <td>1</td>\n",
       "    </tr>\n",
       "    <tr>\n",
       "      <th>2</th>\n",
       "      <td>2008</td>\n",
       "      <td>1</td>\n",
       "      <td>3</td>\n",
       "      <td>4</td>\n",
       "      <td>1240</td>\n",
       "      <td>65.0</td>\n",
       "      <td>33.0</td>\n",
       "      <td>30.0</td>\n",
       "      <td>3.0</td>\n",
       "      <td>18.0</td>\n",
       "      <td>1</td>\n",
       "    </tr>\n",
       "    <tr>\n",
       "      <th>6</th>\n",
       "      <td>2008</td>\n",
       "      <td>1</td>\n",
       "      <td>3</td>\n",
       "      <td>4</td>\n",
       "      <td>1120</td>\n",
       "      <td>65.0</td>\n",
       "      <td>31.0</td>\n",
       "      <td>12.0</td>\n",
       "      <td>22.0</td>\n",
       "      <td>19.0</td>\n",
       "      <td>1</td>\n",
       "    </tr>\n",
       "  </tbody>\n",
       "</table>\n",
       "</div>"
      ],
      "text/plain": [
       "   Year  Month  DayofMonth  DayOfWeek  CRSArrTime  CRSElapsedTime  ArrDelay  \\\n",
       "1  2008      1           3          4        1530            65.0      24.0   \n",
       "2  2008      1           3          4        1240            65.0      33.0   \n",
       "6  2008      1           3          4        1120            65.0      31.0   \n",
       "\n",
       "   DepDelay  TaxiIn  TaxiOut  Label  \n",
       "1      36.0     4.0      8.0      1  \n",
       "2      30.0     3.0     18.0      1  \n",
       "6      12.0    22.0     19.0      1  "
      ]
     },
     "execution_count": 341,
     "metadata": {},
     "output_type": "execute_result"
    }
   ],
   "source": [
    "df_mod = df_flights[(df_flights['ArrDelay'] >= 6) & (df_flights['ArrDelay'] <= 42)]\n",
    "df_mod.head(3)"
   ]
  },
  {
   "cell_type": "code",
   "execution_count": 342,
   "id": "0f69ab4b-480a-4621-92d8-0a89e2a653b2",
   "metadata": {},
   "outputs": [
    {
     "data": {
      "text/html": [
       "<div>\n",
       "<style scoped>\n",
       "    .dataframe tbody tr th:only-of-type {\n",
       "        vertical-align: middle;\n",
       "    }\n",
       "\n",
       "    .dataframe tbody tr th {\n",
       "        vertical-align: top;\n",
       "    }\n",
       "\n",
       "    .dataframe thead th {\n",
       "        text-align: right;\n",
       "    }\n",
       "</style>\n",
       "<table border=\"1\" class=\"dataframe\">\n",
       "  <thead>\n",
       "    <tr style=\"text-align: right;\">\n",
       "      <th></th>\n",
       "      <th>Year</th>\n",
       "      <th>Month</th>\n",
       "      <th>DayofMonth</th>\n",
       "      <th>DayOfWeek</th>\n",
       "      <th>CRSArrTime</th>\n",
       "      <th>CRSElapsedTime</th>\n",
       "      <th>ArrDelay</th>\n",
       "      <th>DepDelay</th>\n",
       "      <th>TaxiIn</th>\n",
       "      <th>TaxiOut</th>\n",
       "      <th>Label</th>\n",
       "    </tr>\n",
       "  </thead>\n",
       "  <tbody>\n",
       "    <tr>\n",
       "      <th>0</th>\n",
       "      <td>2008</td>\n",
       "      <td>12</td>\n",
       "      <td>17</td>\n",
       "      <td>3</td>\n",
       "      <td>1620</td>\n",
       "      <td>275.0</td>\n",
       "      <td>31.253548</td>\n",
       "      <td>6.0</td>\n",
       "      <td>5.793312</td>\n",
       "      <td>6.0</td>\n",
       "      <td>0</td>\n",
       "    </tr>\n",
       "    <tr>\n",
       "      <th>1</th>\n",
       "      <td>2008</td>\n",
       "      <td>2</td>\n",
       "      <td>13</td>\n",
       "      <td>3</td>\n",
       "      <td>1845</td>\n",
       "      <td>85.0</td>\n",
       "      <td>31.253548</td>\n",
       "      <td>8.0</td>\n",
       "      <td>5.793312</td>\n",
       "      <td>5.0</td>\n",
       "      <td>0</td>\n",
       "    </tr>\n",
       "    <tr>\n",
       "      <th>2</th>\n",
       "      <td>2008</td>\n",
       "      <td>6</td>\n",
       "      <td>17</td>\n",
       "      <td>2</td>\n",
       "      <td>1210</td>\n",
       "      <td>300.0</td>\n",
       "      <td>31.253548</td>\n",
       "      <td>38.0</td>\n",
       "      <td>5.793312</td>\n",
       "      <td>8.0</td>\n",
       "      <td>0</td>\n",
       "    </tr>\n",
       "  </tbody>\n",
       "</table>\n",
       "</div>"
      ],
      "text/plain": [
       "   Year  Month  DayofMonth  DayOfWeek  CRSArrTime  CRSElapsedTime   ArrDelay  \\\n",
       "0  2008     12          17          3        1620           275.0  31.253548   \n",
       "1  2008      2          13          3        1845            85.0  31.253548   \n",
       "2  2008      6          17          2        1210           300.0  31.253548   \n",
       "\n",
       "   DepDelay    TaxiIn  TaxiOut  Label  \n",
       "0       6.0  5.793312      6.0      0  \n",
       "1       8.0  5.793312      5.0      0  \n",
       "2      38.0  5.793312      8.0      0  "
      ]
     },
     "execution_count": 342,
     "metadata": {},
     "output_type": "execute_result"
    }
   ],
   "source": [
    "#stratified random sample - take 50 flights with delay and 50 with no delay\n",
    "group1 = df_mod[df_mod['Label'] == 0]\n",
    "group2 = df_mod[df_mod['Label'] == 1]\n",
    "flights_df1 = group1.sample(n = 100)\n",
    "flights_df2 = group2.sample(n = 100)\n",
    "df_flights_sample2 = flights_df1.append((flights_df2),ignore_index = True)\n",
    "df_flights_sample2.head(3)"
   ]
  },
  {
   "cell_type": "code",
   "execution_count": 343,
   "id": "f23f5a95-6ef3-4582-a4ca-7d8374189e21",
   "metadata": {},
   "outputs": [],
   "source": [
    "X = df_flights_sample2.drop('Label',axis=1)\n",
    "y = df_flights_sample2['Label']\n",
    "#Train 70%, test 30%\n",
    "X_train, X_test, y_train, y_test = train_test_split(X, y, test_size=0.3, random_state=42)"
   ]
  },
  {
   "cell_type": "code",
   "execution_count": 344,
   "id": "024b0edc-f42d-4858-b974-a597b74f640d",
   "metadata": {},
   "outputs": [
    {
     "name": "stdout",
     "output_type": "stream",
     "text": [
      "(140, 10) (140,) (60, 10) (60,)\n"
     ]
    }
   ],
   "source": [
    "print(X_train.shape,y_train.shape, X_test.shape, y_test.shape)"
   ]
  },
  {
   "cell_type": "code",
   "execution_count": 345,
   "id": "c4a0f063-335d-4a92-a82f-153b53828749",
   "metadata": {},
   "outputs": [],
   "source": [
    "#scaling the values\n",
    "scaler = StandardScaler()\n",
    "scaler.fit(X_train)\n",
    "X_train = scaler.transform(X_train)\n",
    "X_test = scaler.transform(X_test)"
   ]
  },
  {
   "cell_type": "markdown",
   "id": "ceb3a731-d378-49f4-9f24-9a9f62cd3fb5",
   "metadata": {},
   "source": [
    "#### Decision tree classifier"
   ]
  },
  {
   "cell_type": "code",
   "execution_count": 346,
   "id": "dda936d1-c01a-474e-aac9-c735df471ad3",
   "metadata": {},
   "outputs": [],
   "source": [
    "model11 = DecisionTreeClassifier(criterion='entropy', splitter='best')\n",
    "model11 = model11.fit(X_train,y_train)\n",
    "y_pred11 = model11.predict(X_test)"
   ]
  },
  {
   "cell_type": "markdown",
   "id": "562f9b6e-57f3-4d04-a7c1-fac2acacaba9",
   "metadata": {},
   "source": [
    "#### K-Nearest Neighbors classifier"
   ]
  },
  {
   "cell_type": "code",
   "execution_count": 347,
   "id": "96bbebde-5a4e-4728-be33-2bfe41b6cc12",
   "metadata": {},
   "outputs": [],
   "source": [
    "model12 = KNeighborsClassifier(n_neighbors=3, weights='distance',leaf_size=40)\n",
    "model12.fit(X_train, y_train)\n",
    "y_pred12 = model12.predict(X_test)"
   ]
  },
  {
   "cell_type": "markdown",
   "id": "c7ca0f3e-4c0e-4188-9a13-915c81c2bb4a",
   "metadata": {},
   "source": [
    "#### Support vector machine classifier"
   ]
  },
  {
   "cell_type": "code",
   "execution_count": 348,
   "id": "2d9d8dbd-d0f6-4cd4-8796-47775602ed8d",
   "metadata": {},
   "outputs": [],
   "source": [
    "model13 = svm.SVC(kernel='linear', coef0=1.0, random_state=42)\n",
    "model13.fit(X_train, y_train)\n",
    "y_pred13 = model13.predict(X_test)"
   ]
  },
  {
   "cell_type": "markdown",
   "id": "2707e0c3-4da9-49a1-85c3-27656c41dde3",
   "metadata": {},
   "source": [
    "#### Logistic classifier"
   ]
  },
  {
   "cell_type": "code",
   "execution_count": 349,
   "id": "feb77cf5-5f7a-4c09-998f-ea77b40cb671",
   "metadata": {},
   "outputs": [],
   "source": [
    "model14 = LogisticRegression(class_weight='balanced',solver= 'newton-cg', multi_class='multinomial', random_state=42)\n",
    "model14.fit(X_train,y_train)\n",
    "y_pred14 = model14.predict(X_test)"
   ]
  },
  {
   "cell_type": "markdown",
   "id": "82b64f86-366a-4f1a-b718-04dab48ce41d",
   "metadata": {},
   "source": [
    "#### XGBoost classifier"
   ]
  },
  {
   "cell_type": "code",
   "execution_count": 350,
   "id": "781b92db-353e-4518-a0d6-e68bbaf50f70",
   "metadata": {},
   "outputs": [],
   "source": [
    "data_dmatrix = xgb.DMatrix(data=X_test,label=y_test)\n",
    "model15 = xgb.XGBRegressor(colsample_bytree= 0.7, learning_rate= 0.01, max_depth= 3, n_estimators=1000)\n",
    "model15.fit(X_train,y_train)\n",
    "predictions = model15.predict(X_test)\n",
    "y_pred15 = [round(value) for value in predictions]"
   ]
  },
  {
   "cell_type": "code",
   "execution_count": 406,
   "id": "06439a68-975e-4033-b2ec-dd7f0fdfce13",
   "metadata": {},
   "outputs": [
    {
     "data": {
      "text/html": [
       "<div>\n",
       "<style scoped>\n",
       "    .dataframe tbody tr th:only-of-type {\n",
       "        vertical-align: middle;\n",
       "    }\n",
       "\n",
       "    .dataframe tbody tr th {\n",
       "        vertical-align: top;\n",
       "    }\n",
       "\n",
       "    .dataframe thead th {\n",
       "        text-align: right;\n",
       "    }\n",
       "</style>\n",
       "<table border=\"1\" class=\"dataframe\">\n",
       "  <thead>\n",
       "    <tr style=\"text-align: right;\">\n",
       "      <th></th>\n",
       "      <th>First F1_score</th>\n",
       "      <th>Second F1_score</th>\n",
       "      <th>Third F1_score</th>\n",
       "    </tr>\n",
       "  </thead>\n",
       "  <tbody>\n",
       "    <tr>\n",
       "      <th>DT</th>\n",
       "      <td>0.866667</td>\n",
       "      <td>0.935484</td>\n",
       "      <td>1.000000</td>\n",
       "    </tr>\n",
       "    <tr>\n",
       "      <th>KNN</th>\n",
       "      <td>0.700000</td>\n",
       "      <td>0.745763</td>\n",
       "      <td>0.800000</td>\n",
       "    </tr>\n",
       "    <tr>\n",
       "      <th>SVM</th>\n",
       "      <td>0.766667</td>\n",
       "      <td>0.900000</td>\n",
       "      <td>0.763636</td>\n",
       "    </tr>\n",
       "    <tr>\n",
       "      <th>Logistic</th>\n",
       "      <td>0.827586</td>\n",
       "      <td>0.885246</td>\n",
       "      <td>0.827586</td>\n",
       "    </tr>\n",
       "    <tr>\n",
       "      <th>XGBoost</th>\n",
       "      <td>0.935484</td>\n",
       "      <td>0.935484</td>\n",
       "      <td>1.000000</td>\n",
       "    </tr>\n",
       "  </tbody>\n",
       "</table>\n",
       "</div>"
      ],
      "text/plain": [
       "          First F1_score  Second F1_score  Third F1_score\n",
       "DT              0.866667         0.935484        1.000000\n",
       "KNN             0.700000         0.745763        0.800000\n",
       "SVM             0.766667         0.900000        0.763636\n",
       "Logistic        0.827586         0.885246        0.827586\n",
       "XGBoost         0.935484         0.935484        1.000000"
      ]
     },
     "execution_count": 406,
     "metadata": {},
     "output_type": "execute_result"
    }
   ],
   "source": [
    "#comparing f1_scores\n",
    "f11 = f1_score(y_test, y_pred11)\n",
    "f12 = f1_score(y_test, y_pred12)\n",
    "f13 = f1_score(y_test, y_pred13)\n",
    "f14 = f1_score(y_test, y_pred14)\n",
    "f15 = f1_score(y_test, y_pred15)\n",
    "\n",
    "d1 = {'DT': f1, 'KNN': f2, 'SVM': f3, 'Logistic': f4, 'XGBoost': f5}\n",
    "class1 = pd.Series(data=d1, index=['DT', 'KNN', 'SVM', 'Logistic', 'XGBoost'])\n",
    "d2 = {'DT': f6, 'KNN': f7, 'SVM': f8, 'Logistic': f9, 'XGBoost': f10}\n",
    "class2 = pd.Series(data=d2, index=['DT', 'KNN', 'SVM', 'Logistic', 'XGBoost'])\n",
    "d3 = {'DT': f11, 'KNN': f12, 'SVM': f13, 'Logistic': f14, 'XGBoost': f15}\n",
    "class3 = pd.Series(data=d3, index=['DT', 'KNN', 'SVM', 'Logistic', 'XGBoost'])\n",
    "\n",
    "df_class = pd.DataFrame({'First F1_score':class1, 'Second F1_score':class2, 'Third F1_score':class3})\n",
    "df_class"
   ]
  },
  {
   "cell_type": "markdown",
   "id": "31b39fbe-ffbe-4912-9d7a-a16faf2b0fc2",
   "metadata": {},
   "source": [
    "Conclusions:\n",
    "- Tuning of the initial models improved the performance\n",
    "- The feature engeneering also improved Decision Tree and XGBoost classifier."
   ]
  },
  {
   "cell_type": "markdown",
   "id": "69829c16-c0e2-44dd-9886-04796b980ff8",
   "metadata": {},
   "source": [
    "## Level 3"
   ]
  },
  {
   "cell_type": "markdown",
   "id": "d5533533-607d-4f8b-b0dc-11d51555cd08",
   "metadata": {},
   "source": [
    "### Exercise 6"
   ]
  },
  {
   "cell_type": "markdown",
   "id": "eb7ca2d3-79fc-471e-82e8-bb1dea00cb8d",
   "metadata": {},
   "source": [
    "##### Prediction without variable DepDelay."
   ]
  },
  {
   "cell_type": "code",
   "execution_count": 353,
   "id": "d83549b4-b616-4290-8220-d4aba8de2628",
   "metadata": {},
   "outputs": [
    {
     "data": {
      "text/html": [
       "<div>\n",
       "<style scoped>\n",
       "    .dataframe tbody tr th:only-of-type {\n",
       "        vertical-align: middle;\n",
       "    }\n",
       "\n",
       "    .dataframe tbody tr th {\n",
       "        vertical-align: top;\n",
       "    }\n",
       "\n",
       "    .dataframe thead th {\n",
       "        text-align: right;\n",
       "    }\n",
       "</style>\n",
       "<table border=\"1\" class=\"dataframe\">\n",
       "  <thead>\n",
       "    <tr style=\"text-align: right;\">\n",
       "      <th></th>\n",
       "      <th>Year</th>\n",
       "      <th>Month</th>\n",
       "      <th>DayofMonth</th>\n",
       "      <th>DayOfWeek</th>\n",
       "      <th>CRSArrTime</th>\n",
       "      <th>CRSElapsedTime</th>\n",
       "      <th>ArrDelay</th>\n",
       "      <th>TaxiIn</th>\n",
       "      <th>TaxiOut</th>\n",
       "      <th>Label</th>\n",
       "    </tr>\n",
       "  </thead>\n",
       "  <tbody>\n",
       "    <tr>\n",
       "      <th>0</th>\n",
       "      <td>2008</td>\n",
       "      <td>1</td>\n",
       "      <td>3</td>\n",
       "      <td>4</td>\n",
       "      <td>1940</td>\n",
       "      <td>250.0</td>\n",
       "      <td>57.0</td>\n",
       "      <td>3.0</td>\n",
       "      <td>7.0</td>\n",
       "      <td>1</td>\n",
       "    </tr>\n",
       "    <tr>\n",
       "      <th>1</th>\n",
       "      <td>2008</td>\n",
       "      <td>1</td>\n",
       "      <td>3</td>\n",
       "      <td>4</td>\n",
       "      <td>1530</td>\n",
       "      <td>65.0</td>\n",
       "      <td>24.0</td>\n",
       "      <td>4.0</td>\n",
       "      <td>8.0</td>\n",
       "      <td>1</td>\n",
       "    </tr>\n",
       "    <tr>\n",
       "      <th>2</th>\n",
       "      <td>2008</td>\n",
       "      <td>1</td>\n",
       "      <td>3</td>\n",
       "      <td>4</td>\n",
       "      <td>1240</td>\n",
       "      <td>65.0</td>\n",
       "      <td>33.0</td>\n",
       "      <td>3.0</td>\n",
       "      <td>18.0</td>\n",
       "      <td>1</td>\n",
       "    </tr>\n",
       "  </tbody>\n",
       "</table>\n",
       "</div>"
      ],
      "text/plain": [
       "   Year  Month  DayofMonth  DayOfWeek  CRSArrTime  CRSElapsedTime  ArrDelay  \\\n",
       "0  2008      1           3          4        1940           250.0      57.0   \n",
       "1  2008      1           3          4        1530            65.0      24.0   \n",
       "2  2008      1           3          4        1240            65.0      33.0   \n",
       "\n",
       "   TaxiIn  TaxiOut  Label  \n",
       "0     3.0      7.0      1  \n",
       "1     4.0      8.0      1  \n",
       "2     3.0     18.0      1  "
      ]
     },
     "execution_count": 353,
     "metadata": {},
     "output_type": "execute_result"
    }
   ],
   "source": [
    "df_flights2 = df_flights.copy()\n",
    "df_flights2.drop('DepDelay',axis=1, inplace=True)\n",
    "df_flights2.head(3)"
   ]
  },
  {
   "cell_type": "code",
   "execution_count": 354,
   "id": "43b2954d-fd26-43ce-bf1a-ba0b4dd1df5f",
   "metadata": {},
   "outputs": [
    {
     "data": {
      "image/png": "[encoded data removed]",
      "text/plain": [
       "<Figure size 1080x288 with 2 Axes>"
      ]
     },
     "metadata": {},
     "output_type": "display_data"
    }
   ],
   "source": [
    "#Correlation matrix\n",
    "fig,ax = plt.subplots(figsize=(15,4))\n",
    "corr = df_flights2.corr()\n",
    "sns.set_theme(style=\"white\")\n",
    "cmap = sns.diverging_palette(230, 20, as_cmap=True)\n",
    "\n",
    "matrix = np.triu(corr)\n",
    "sns.heatmap(corr, annot=True, mask=matrix, cmap=cmap)\n",
    "plt.show()"
   ]
  },
  {
   "cell_type": "code",
   "execution_count": 355,
   "id": "68a20c05-07b2-434a-adf8-34453bc2f876",
   "metadata": {},
   "outputs": [
    {
     "data": {
      "text/html": [
       "<div>\n",
       "<style scoped>\n",
       "    .dataframe tbody tr th:only-of-type {\n",
       "        vertical-align: middle;\n",
       "    }\n",
       "\n",
       "    .dataframe tbody tr th {\n",
       "        vertical-align: top;\n",
       "    }\n",
       "\n",
       "    .dataframe thead th {\n",
       "        text-align: right;\n",
       "    }\n",
       "</style>\n",
       "<table border=\"1\" class=\"dataframe\">\n",
       "  <thead>\n",
       "    <tr style=\"text-align: right;\">\n",
       "      <th></th>\n",
       "      <th>Year</th>\n",
       "      <th>Month</th>\n",
       "      <th>DayofMonth</th>\n",
       "      <th>DayOfWeek</th>\n",
       "      <th>CRSArrTime</th>\n",
       "      <th>CRSElapsedTime</th>\n",
       "      <th>ArrDelay</th>\n",
       "      <th>TaxiIn</th>\n",
       "      <th>TaxiOut</th>\n",
       "      <th>Label</th>\n",
       "    </tr>\n",
       "  </thead>\n",
       "  <tbody>\n",
       "    <tr>\n",
       "      <th>0</th>\n",
       "      <td>2008</td>\n",
       "      <td>10</td>\n",
       "      <td>19</td>\n",
       "      <td>7</td>\n",
       "      <td>1345</td>\n",
       "      <td>315.0</td>\n",
       "      <td>-4.0</td>\n",
       "      <td>6.0</td>\n",
       "      <td>7.0</td>\n",
       "      <td>0</td>\n",
       "    </tr>\n",
       "    <tr>\n",
       "      <th>1</th>\n",
       "      <td>2008</td>\n",
       "      <td>8</td>\n",
       "      <td>1</td>\n",
       "      <td>5</td>\n",
       "      <td>1710</td>\n",
       "      <td>150.0</td>\n",
       "      <td>0.0</td>\n",
       "      <td>6.0</td>\n",
       "      <td>16.0</td>\n",
       "      <td>0</td>\n",
       "    </tr>\n",
       "    <tr>\n",
       "      <th>2</th>\n",
       "      <td>2008</td>\n",
       "      <td>8</td>\n",
       "      <td>19</td>\n",
       "      <td>2</td>\n",
       "      <td>1555</td>\n",
       "      <td>90.0</td>\n",
       "      <td>-3.0</td>\n",
       "      <td>7.0</td>\n",
       "      <td>7.0</td>\n",
       "      <td>0</td>\n",
       "    </tr>\n",
       "  </tbody>\n",
       "</table>\n",
       "</div>"
      ],
      "text/plain": [
       "   Year  Month  DayofMonth  DayOfWeek  CRSArrTime  CRSElapsedTime  ArrDelay  \\\n",
       "0  2008     10          19          7        1345           315.0      -4.0   \n",
       "1  2008      8           1          5        1710           150.0       0.0   \n",
       "2  2008      8          19          2        1555            90.0      -3.0   \n",
       "\n",
       "   TaxiIn  TaxiOut  Label  \n",
       "0     6.0      7.0      0  \n",
       "1     6.0     16.0      0  \n",
       "2     7.0      7.0      0  "
      ]
     },
     "execution_count": 355,
     "metadata": {},
     "output_type": "execute_result"
    }
   ],
   "source": [
    "#stratified random sample - take 50 flights with delay and 50 with no delay\n",
    "group1 = df_flights2[df_flights2['Label'] == 0]\n",
    "group2 = df_flights2[df_flights2['Label'] == 1]\n",
    "flights_df1 = group1.sample(n = 100)\n",
    "flights_df2 = group2.sample(n = 100)\n",
    "df_flights_sample3 = flights_df1.append((flights_df2),ignore_index = True)\n",
    "df_flights_sample3.head(3)"
   ]
  },
  {
   "cell_type": "code",
   "execution_count": 356,
   "id": "483241e0-eb65-40ec-836a-939934c8baa8",
   "metadata": {},
   "outputs": [],
   "source": [
    "X = df_flights_sample3.drop('Label',axis=1)\n",
    "y = df_flights_sample3['Label']\n",
    "#Train 70%, test 30%\n",
    "X_train, X_test, y_train, y_test = train_test_split(X, y, test_size=0.3, random_state=42)"
   ]
  },
  {
   "cell_type": "code",
   "execution_count": 357,
   "id": "18bfc621-dd13-4e0d-9bcd-ff2e8315cf2d",
   "metadata": {},
   "outputs": [
    {
     "name": "stdout",
     "output_type": "stream",
     "text": [
      "(140, 9) (140,) (60, 9) (60,)\n"
     ]
    }
   ],
   "source": [
    "print(X_train.shape,y_train.shape, X_test.shape, y_test.shape)"
   ]
  },
  {
   "cell_type": "code",
   "execution_count": 358,
   "id": "bdf731be-5c65-4ec2-bc50-f0dc3074fe5a",
   "metadata": {},
   "outputs": [],
   "source": [
    "#scaling the values\n",
    "scaler = StandardScaler()\n",
    "scaler.fit(X_train)\n",
    "X_train = scaler.transform(X_train)\n",
    "X_test = scaler.transform(X_test)"
   ]
  },
  {
   "cell_type": "markdown",
   "id": "e1a0077d-d4c3-4d13-9f5e-91c06463b5fc",
   "metadata": {},
   "source": [
    "#### Decision tree classifier"
   ]
  },
  {
   "cell_type": "code",
   "execution_count": 359,
   "id": "9d37fce2-5382-4b12-8b92-b34bdfc1f70d",
   "metadata": {},
   "outputs": [],
   "source": [
    "model16 = DecisionTreeClassifier()\n",
    "model16 = model16.fit(X_train,y_train)\n",
    "y_pred16 = model16.predict(X_test)"
   ]
  },
  {
   "cell_type": "markdown",
   "id": "937714a3-16a6-4faa-9bfa-16e5b3f4d5e7",
   "metadata": {},
   "source": [
    "#### K-Nearest Neighbors classifier"
   ]
  },
  {
   "cell_type": "code",
   "execution_count": 401,
   "id": "b85a0dbc-8bcd-4479-aad0-6dc253fe57a8",
   "metadata": {},
   "outputs": [],
   "source": [
    "model17 = KNeighborsClassifier(n_neighbors=1, weights='distance',leaf_size=50)\n",
    "model17.fit(X_train, y_train)\n",
    "y_pred17 = model17.predict(X_test)"
   ]
  },
  {
   "cell_type": "markdown",
   "id": "dfab9538-38c1-465d-af86-0f641d31b962",
   "metadata": {},
   "source": [
    "#### Support vector machine classifier"
   ]
  },
  {
   "cell_type": "code",
   "execution_count": 397,
   "id": "30bf06db-8283-49ee-b85c-6aa971806c49",
   "metadata": {},
   "outputs": [],
   "source": [
    "model18 = svm.SVC(kernel='linear', coef0=1.0, random_state=42)\n",
    "model18.fit(X_train, y_train)\n",
    "y_pred18 = model18.predict(X_test)"
   ]
  },
  {
   "cell_type": "markdown",
   "id": "4a51f9cd-0a86-4d0e-968b-1b8fbd5b5e7b",
   "metadata": {},
   "source": [
    "#### Logistic classifier"
   ]
  },
  {
   "cell_type": "code",
   "execution_count": 362,
   "id": "6c0ffce1-d121-4a7f-bb6b-c10a84d8698e",
   "metadata": {},
   "outputs": [],
   "source": [
    "model19 = LogisticRegression()\n",
    "model19.fit(X_train,y_train)\n",
    "y_pred19 = model19.predict(X_test)"
   ]
  },
  {
   "cell_type": "markdown",
   "id": "52d73b06-932f-42ff-8a0c-7cdb8fe9c2e3",
   "metadata": {},
   "source": [
    "#### XGBoost classifier"
   ]
  },
  {
   "cell_type": "code",
   "execution_count": 393,
   "id": "88b0e96e-3747-4018-a099-2ead61623146",
   "metadata": {},
   "outputs": [],
   "source": [
    "model20 = xgb.XGBRegressor()\n",
    "model20.fit(X_train,y_train)\n",
    "predictions = model20.predict(X_test)\n",
    "y_pred20 = [round(value) for value in predictions]"
   ]
  },
  {
   "cell_type": "code",
   "execution_count": 407,
   "id": "e923d316-b169-4ced-ade9-609ea21e2165",
   "metadata": {},
   "outputs": [
    {
     "data": {
      "text/html": [
       "<div>\n",
       "<style scoped>\n",
       "    .dataframe tbody tr th:only-of-type {\n",
       "        vertical-align: middle;\n",
       "    }\n",
       "\n",
       "    .dataframe tbody tr th {\n",
       "        vertical-align: top;\n",
       "    }\n",
       "\n",
       "    .dataframe thead th {\n",
       "        text-align: right;\n",
       "    }\n",
       "</style>\n",
       "<table border=\"1\" class=\"dataframe\">\n",
       "  <thead>\n",
       "    <tr style=\"text-align: right;\">\n",
       "      <th></th>\n",
       "      <th>First F1_score</th>\n",
       "      <th>Second F1_score</th>\n",
       "      <th>Third F1_score</th>\n",
       "      <th>Fourth F1_score</th>\n",
       "    </tr>\n",
       "  </thead>\n",
       "  <tbody>\n",
       "    <tr>\n",
       "      <th>DT</th>\n",
       "      <td>0.866667</td>\n",
       "      <td>0.935484</td>\n",
       "      <td>1.000000</td>\n",
       "      <td>0.982456</td>\n",
       "    </tr>\n",
       "    <tr>\n",
       "      <th>KNN</th>\n",
       "      <td>0.700000</td>\n",
       "      <td>0.745763</td>\n",
       "      <td>0.800000</td>\n",
       "      <td>0.745763</td>\n",
       "    </tr>\n",
       "    <tr>\n",
       "      <th>SVM</th>\n",
       "      <td>0.766667</td>\n",
       "      <td>0.900000</td>\n",
       "      <td>0.763636</td>\n",
       "      <td>0.947368</td>\n",
       "    </tr>\n",
       "    <tr>\n",
       "      <th>Logistic</th>\n",
       "      <td>0.827586</td>\n",
       "      <td>0.885246</td>\n",
       "      <td>0.827586</td>\n",
       "      <td>0.947368</td>\n",
       "    </tr>\n",
       "    <tr>\n",
       "      <th>XGBoost</th>\n",
       "      <td>0.935484</td>\n",
       "      <td>0.935484</td>\n",
       "      <td>1.000000</td>\n",
       "      <td>1.000000</td>\n",
       "    </tr>\n",
       "  </tbody>\n",
       "</table>\n",
       "</div>"
      ],
      "text/plain": [
       "          First F1_score  Second F1_score  Third F1_score  Fourth F1_score\n",
       "DT              0.866667         0.935484        1.000000         0.982456\n",
       "KNN             0.700000         0.745763        0.800000         0.745763\n",
       "SVM             0.766667         0.900000        0.763636         0.947368\n",
       "Logistic        0.827586         0.885246        0.827586         0.947368\n",
       "XGBoost         0.935484         0.935484        1.000000         1.000000"
      ]
     },
     "execution_count": 407,
     "metadata": {},
     "output_type": "execute_result"
    }
   ],
   "source": [
    "#comparing f1_scores\n",
    "f16 = f1_score(y_test, y_pred16)\n",
    "f17 = f1_score(y_test, y_pred17)\n",
    "f18 = f1_score(y_test, y_pred18)\n",
    "f19 = f1_score(y_test, y_pred19)\n",
    "f20 = f1_score(y_test, y_pred20)\n",
    "\n",
    "d1 = {'DT': f1, 'KNN': f2, 'SVM': f3, 'Logistic': f4, 'XGBoost': f5}\n",
    "class1 = pd.Series(data=d1, index=['DT', 'KNN', 'SVM', 'Logistic', 'XGBoost'])\n",
    "d2 = {'DT': f6, 'KNN': f7, 'SVM': f8, 'Logistic': f9, 'XGBoost': f10}\n",
    "class2 = pd.Series(data=d2, index=['DT', 'KNN', 'SVM', 'Logistic', 'XGBoost'])\n",
    "d3 = {'DT': f11, 'KNN': f12, 'SVM': f13, 'Logistic': f14, 'XGBoost': f15}\n",
    "class3 = pd.Series(data=d3, index=['DT', 'KNN', 'SVM', 'Logistic', 'XGBoost'])\n",
    "d4 = {'DT': f16, 'KNN': f17, 'SVM': f18, 'Logistic': f19, 'XGBoost': f20}\n",
    "class4 = pd.Series(data=d4, index=['DT', 'KNN', 'SVM', 'Logistic', 'XGBoost'])\n",
    "\n",
    "df_class = pd.DataFrame({'First F1_score':class1, 'Second F1_score':class2,\n",
    "                         'Third F1_score':class3,'Fourth F1_score':class4, })\n",
    "df_class"
   ]
  },
  {
   "cell_type": "markdown",
   "id": "0c1cbd39-03d5-47b6-8ecc-f4da472518d0",
   "metadata": {},
   "source": [
    "Conclusion:\n",
    "- Classification without DepDelay are sowing better results. That means that if we work with values with are not strongly correlated we can perform better classification algorithms.\n",
    "- Probabely the best solution of classification for the dataset would be Decision Tree and XGBoost."
   ]
  },
  {
   "cell_type": "markdown",
   "id": "52f07c23-f3e6-48a9-a0ad-28213830556c",
   "metadata": {},
   "source": [
    "### Exercise extra"
   ]
  },
  {
   "cell_type": "markdown",
   "id": "31226dfa-b343-4940-8906-7cb97edeccde",
   "metadata": {},
   "source": [
    "##### How to deal with imbalanced data?"
   ]
  },
  {
   "cell_type": "markdown",
   "id": "1465ee61-fe6b-481f-ac56-f97cb7c10565",
   "metadata": {},
   "source": [
    "#### 1. Change the performance metric"
   ]
  },
  {
   "cell_type": "code",
   "execution_count": 456,
   "id": "0db2dac5-f0d8-40ec-8d40-5f5c671bf024",
   "metadata": {},
   "outputs": [
    {
     "name": "stdout",
     "output_type": "stream",
     "text": [
      "Precision decision tree model: 0.8387096774193549\n",
      "Precision KNN model: 0.6774193548387096\n",
      "Precision SVM model: 0.7419354838709677\n",
      "Precision Logistic model: 0.8275862068965517\n",
      "Precision XGBoost model: 0.8787878787878788\n"
     ]
    }
   ],
   "source": [
    "#Previously explored sensitivity(recall) and f_score, but we can also add Precision\n",
    "#precision TP / (TP + FP)\n",
    "p1 = m1[1,1] / (m1[1,1] + m1[0,1])\n",
    "p2 = m2[1,1] / (m2[1,1] + m2[0,1])\n",
    "p3 = m3[1,1] / (m3[1,1] + m3[0,1])\n",
    "p4 = m4[1,1] / (m4[1,1] + m4[0,1])\n",
    "p5 = m5[1,1] / (m5[1,1] + m5[0,1])\n",
    "\n",
    "print('Precision decision tree model:',p1)\n",
    "print('Precision KNN model:',p2)\n",
    "print('Precision SVM model:',p3)\n",
    "print('Precision Logistic model:',p4)\n",
    "print('Precision XGBoost model:',p5)"
   ]
  },
  {
   "cell_type": "markdown",
   "id": "d378b200-8102-4099-8a1c-0308a69bb691",
   "metadata": {},
   "source": [
    "#### 2. Resampling"
   ]
  },
  {
   "cell_type": "code",
   "execution_count": 468,
   "id": "95a02a5f-5962-4efa-8a5d-8d674063006b",
   "metadata": {},
   "outputs": [],
   "source": [
    "from imblearn.over_sampling import SMOTE\n",
    "X = df_flights.drop('Label',axis=1)\n",
    "y = df_flights['Label']\n",
    "\n",
    "#test and train\n",
    "X_train, X_test, y_train, y_test = train_test_split(X, y, test_size=0.3, random_state=27)\n",
    "sm = SMOTE(random_state=27)\n",
    "X_train, y_train = sm.fit_sample(X_train, y_train)"
   ]
  },
  {
   "cell_type": "code",
   "execution_count": 469,
   "id": "10b47c92-ff3f-4caa-aa8e-f60e34346f6a",
   "metadata": {},
   "outputs": [
    {
     "name": "stdout",
     "output_type": "stream",
     "text": [
      "0.938953488372093 0.96353591160221\n"
     ]
    }
   ],
   "source": [
    "smote = LogisticRegression(solver='liblinear').fit(X_train, y_train)\n",
    "smote_pred = smote.predict(X_test)\n",
    "\n",
    "a = metrics.accuracy_score(y_test, smote_pred)\n",
    "b = f1_score(y_test, smote_pred)\n",
    "print(a,b)"
   ]
  },
  {
   "cell_type": "markdown",
   "id": "9fa81ebf-155f-4dd6-a3a9-9589ece6f05f",
   "metadata": {},
   "source": [
    "Conclusion:\n",
    "- Smote method improved significantly the Logistic model comparing the result to previous algorithms. \n",
    "- Another method would be undersampling or oversampling. In this large dataset would be appropriate to use undersampling - which was already applied in previous steps.\n",
    "- SMOTE - generating the synthetics samples seems to be the best way how to deal with imbalanced dataset"
   ]
  },
  {
   "cell_type": "code",
   "execution_count": 561,
   "id": "5efed806-0652-4497-8fe1-d7677510c2e8",
   "metadata": {},
   "outputs": [
    {
     "data": {
      "image/png": "[encoded data removed]",
      "text/plain": [
       "<Figure size 1080x288 with 1 Axes>"
      ]
     },
     "metadata": {},
     "output_type": "display_data"
    }
   ],
   "source": [
    "#visualize the majority and minority group\n",
    "plt.figure(figsize =(15, 4))\n",
    "idx_1 = np.where(df_flights.Label == 1)\n",
    "idx_0 = np.where(df_flights.Label == 0)\n",
    "\n",
    "plt.scatter(df_flights.iloc[idx_1].ArrDelay, df_flights.iloc[idx_1].Month, s=10, c='b', marker=\"o\")\n",
    "plt.scatter(df_flights.iloc[idx_0].ArrDelay, df_flights.iloc[idx_0].Month, s=10, c='r', marker=\"o\")\n",
    "plt.title(\"Comparing amount of data by label - with or without delay\",fontsize=15)\n",
    "plt.xlabel('ArrDelay')\n",
    "plt.ylabel('Month')\n",
    "plt.legend(['Flights with arrival delay','Flights without arrival delay' ])\n",
    "plt.show()"
   ]
  },
  {
   "cell_type": "markdown",
   "id": "47c7149e-f331-4f26-857a-0705fd4a9919",
   "metadata": {},
   "source": [
    "#### Exporting list of requirements"
   ]
  },
  {
   "cell_type": "code",
   "execution_count": 410,
   "id": "d5c232c6-aa48-4a69-8b75-84b5259cfc42",
   "metadata": {},
   "outputs": [
    {
     "name": "stdout",
     "output_type": "stream",
     "text": [
      "\n",
      "Note: you may need to restart the kernel to use updated packages.\n"
     ]
    }
   ],
   "source": [
    "#exporting requirements\n",
    "conda list -e > requirements.txt"
   ]
  },
  {
   "cell_type": "markdown",
   "id": "63265be5-6ebe-4e8c-87b5-e8b660ecb26c",
   "metadata": {},
   "source": [
    "#### Notes\n",
    "* Freeze\n",
    "    - https://pip.pypa.io/en/stable/cli/pip_freeze/\n",
    "* Decision Tree\n",
    "    - https://www.datacamp.com/community/tutorials/decision-tree-classification-python\n",
    "* How to evaluate\n",
    "    - https://towardsdatascience.com/how-to-best-evaluate-a-classification-model-2edb12bcc587\n",
    "    - https://www.ritchieng.com/machine-learning-evaluate-classification-model/\n",
    "    - https://towardsdatascience.com/hackcvilleds-4636c6c1ba53\n",
    "* K-Nearest Neighbors\n",
    "    - https://stackabuse.com/k-nearest-neighbors-algorithm-in-python-and-scikit-learn/\n",
    "* Logistic Regression classifier\n",
    "    - https://www.datacamp.com/community/tutorials/understanding-logistic-regression-python\n",
    "    - https://towardsdatascience.com/logistic-regression-using-python-sklearn-numpy-mnist-handwriting-recognition-matplotlib-a6b31e2b166a\n",
    "* Support vector machine\n",
    "    - https://www.datacamp.com/community/tutorials/svm-classification-scikit-learn-python\n",
    "* XGBoost\n",
    "    - https://www.datacamp.com/community/tutorials/xgboost-in-python\n",
    "* Cross-validation\n",
    "    - https://scikit-learn.org/stable/modules/cross_validation.html\n",
    "    - https://machinelearningmastery.com/k-fold-cross-validation/\n",
    "* Oversampling/undersampling of imbalanced dataset \n",
    "    - https://towardsdatascience.com/methods-for-dealing-with-imbalanced-data-5b761be45a18\n",
    "    - https://machinelearningmastery.com/tactics-to-combat-imbalanced-classes-in-your-machine-learning-dataset/\n",
    "* Ensempling method   \n",
    "    - https://www.kdnuggets.com/2019/05/fix-unbalanced-dataset.html\n",
    "* SMOTE, ADASYN\n",
    "    - https://machinelearningmastery.com/smote-oversampling-for-imbalanced-classification/"
   ]
  }
 ],
 "metadata": {
  "kernelspec": {
   "display_name": "Python 3",
   "language": "python",
   "name": "python3"
  },
  "language_info": {
   "codemirror_mode": {
    "name": "ipython",
    "version": 3
   },
   "file_extension": ".py",
   "mimetype": "text/x-python",
   "name": "python",
   "nbconvert_exporter": "python",
   "pygments_lexer": "ipython3",
   "version": "3.8.8"
  }
 },
 "nbformat": 4,
 "nbformat_minor": 5
}
